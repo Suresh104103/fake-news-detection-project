{
  "metadata": {
    "kernelspec": {
      "language": "python",
      "display_name": "Python 3",
      "name": "python3"
    },
    "language_info": {
      "name": "python",
      "version": "3.10.12",
      "mimetype": "text/x-python",
      "codemirror_mode": {
        "name": "ipython",
        "version": 3
      },
      "pygments_lexer": "ipython3",
      "nbconvert_exporter": "python",
      "file_extension": ".py"
    },
    "kaggle": {
      "accelerator": "gpu",
      "dataSources": [
        {
          "sourceId": 8165591,
          "sourceType": "datasetVersion",
          "datasetId": 4831777
        }
      ],
      "dockerImageVersionId": 30919,
      "isInternetEnabled": true,
      "language": "python",
      "sourceType": "notebook",
      "isGpuEnabled": true
    },
    "colab": {
      "provenance": [],
      "include_colab_link": true
    }
  },
  "nbformat_minor": 0,
  "nbformat": 4,
  "cells": [
    {
      "cell_type": "markdown",
      "metadata": {
        "id": "view-in-github",
        "colab_type": "text"
      },
      "source": [
        "<a href=\"https://colab.research.google.com/github/Suresh104103/fake-news-detection-project/blob/main/_fake_real_news_predection.ipynb\" target=\"_parent\"><img src=\"https://colab.research.google.com/assets/colab-badge.svg\" alt=\"Open In Colab\"/></a>"
      ]
    },
    {
      "source": [
        "\n",
        "import kagglehub\n",
        "clmentbisaillon_fake_and_real_news_dataset_path = kagglehub.dataset_download('clmentbisaillon/fake-and-real-news-dataset')\n",
        "\n",
        "print('Data source import complete.')"
      ],
      "metadata": {
        "id": "NKm5bFJaKuSJ",
        "outputId": "a1e6e102-679a-4364-a4d5-e3d9fe50133d",
        "colab": {
          "base_uri": "https://localhost:8080/"
        }
      },
      "cell_type": "code",
      "outputs": [
        {
          "output_type": "stream",
          "name": "stdout",
          "text": [
            "Data source import complete.\n"
          ]
        }
      ],
      "execution_count": null
    },
    {
      "cell_type": "markdown",
      "source": [
        "# Import Libraries"
      ],
      "metadata": {
        "id": "VCh4cz8AmY9r"
      }
    },
    {
      "cell_type": "code",
      "source": [
        "import numpy as np\n",
        "import pandas as pd\n",
        "import matplotlib.pyplot as plt\n",
        "import seaborn as sns\n",
        "from sklearn.preprocessing import LabelEncoder,MinMaxScaler,StandardScaler\n",
        "from sklearn.model_selection import train_test_split\n",
        "from sklearn.metrics import confusion_matrix, classification_report, accuracy_score\n",
        "from sklearn.feature_extraction.text import TfidfVectorizer\n",
        "from sklearn.linear_model import LogisticRegression\n",
        "from sklearn.tree import DecisionTreeClassifier\n",
        "from sklearn.naive_bayes import MultinomialNB\n",
        "from sklearn.svm import SVC\n",
        "import re\n",
        "import string\n"
      ],
      "metadata": {
        "trusted": true,
        "id": "IYWHcLNbmY9s",
        "execution": {
          "iopub.status.busy": "2025-04-10T07:12:53.53731Z",
          "iopub.execute_input": "2025-04-10T07:12:53.537651Z",
          "iopub.status.idle": "2025-04-10T07:12:53.549603Z",
          "shell.execute_reply.started": "2025-04-10T07:12:53.537627Z",
          "shell.execute_reply": "2025-04-10T07:12:53.548806Z"
        }
      },
      "outputs": [],
      "execution_count": null
    },
    {
      "cell_type": "markdown",
      "source": [
        "# Functions"
      ],
      "metadata": {
        "id": "ICF-fLkbKuSR"
      }
    },
    {
      "cell_type": "code",
      "source": [
        "def clean_word(text):\n",
        "    text = text.lower()\n",
        "    text = re.sub ('\\[.*?\\]','',text)\n",
        "\n",
        "    text = re.sub ('\\\\W',' ',text)\n",
        "\n",
        "    text = re.sub ('https?://\\S+|www\\.\\S+','',text)\n",
        "\n",
        "    text = re.sub ('\\<.*?>+','',text)\n",
        "\n",
        "    text = re.sub ('[%s]'% re.escape(string.punctuation),'',text)\n",
        "\n",
        "    text = re.sub ('\\n','',text)\n",
        "\n",
        "    text = re.sub ('\\w*\\d\\w*','',text)\n",
        "    return text"
      ],
      "metadata": {
        "trusted": true,
        "execution": {
          "iopub.status.busy": "2025-04-10T07:05:24.443369Z",
          "iopub.execute_input": "2025-04-10T07:05:24.443794Z",
          "iopub.status.idle": "2025-04-10T07:05:24.448438Z",
          "shell.execute_reply.started": "2025-04-10T07:05:24.443769Z",
          "shell.execute_reply": "2025-04-10T07:05:24.447497Z"
        },
        "id": "WkVJ7OmNKuSR"
      },
      "outputs": [],
      "execution_count": null
    },
    {
      "cell_type": "code",
      "source": [
        "def train_test_model(model,x_train,x_test,y_train,y_test):\n",
        "    # Train model\n",
        "    model.fit(x_train,y_train)\n",
        "\n",
        "    # Test model\n",
        "    y_predict = model.predict(x_test)\n",
        "\n",
        "    # Show confusion_matrix classification_report accuracy_score\n",
        "    print(f'\\n accuracy_score = {accuracy_score(y_test,y_predict)} \\n')\n",
        "    print(f'confusion_matrix = \\n {confusion_matrix(y_test,y_predict)}\\n')\n",
        "    print(f'classification_report = \\n {classification_report(y_test,y_predict)}')\n",
        "\n",
        "    # Heatmap of the confusion matrix\n",
        "    plt.figure(figsize=(10, 6))\n",
        "    cm = confusion_matrix(y_test, y_predict)\n",
        "\n",
        "    # Fake --> class 0 , Real --> class 1\n",
        "    sns.heatmap(cm, annot=True, fmt=\"d\" ,cmap = 'Blues', xticklabels=[\"Fake\", \"Real\"], yticklabels=[\"Fake\", \"Real\"])\n",
        "\n",
        "    # Labels and title\n",
        "    plt.xlabel('Predicted')\n",
        "    plt.ylabel('Actual')\n",
        "    plt.title('Confusion Matrix')\n",
        "    plt.show()\n"
      ],
      "metadata": {
        "trusted": true,
        "execution": {
          "iopub.status.busy": "2025-04-10T07:05:24.450025Z",
          "iopub.execute_input": "2025-04-10T07:05:24.450241Z",
          "iopub.status.idle": "2025-04-10T07:05:24.464584Z",
          "shell.execute_reply.started": "2025-04-10T07:05:24.450221Z",
          "shell.execute_reply": "2025-04-10T07:05:24.463859Z"
        },
        "id": "5jKgacfJKuSS"
      },
      "outputs": [],
      "execution_count": null
    },
    {
      "cell_type": "code",
      "source": [],
      "metadata": {
        "trusted": true,
        "id": "lNgJv8wvKuST"
      },
      "outputs": [],
      "execution_count": null
    },
    {
      "cell_type": "markdown",
      "source": [
        "#  Exploratory Data Analysis (EDA) – Fake News Detection"
      ],
      "metadata": {
        "id": "iOwCdbuHmY9t"
      }
    },
    {
      "cell_type": "markdown",
      "source": [
        "## Read Data"
      ],
      "metadata": {
        "id": "czLpjO2zMXoB"
      }
    },
    {
      "cell_type": "code",
      "source": [
        "fake_path = '/kaggle/input/fake-and-real-news-dataset/Fake.csv'\n",
        "real_path = '/kaggle/input/fake-and-real-news-dataset/True.csv'\n",
        "\n",
        "fake_data = pd.read_csv(fake_path)\n",
        "real_data = pd.read_csv(real_path)\n"
      ],
      "metadata": {
        "trusted": true,
        "execution": {
          "iopub.status.busy": "2025-04-10T07:05:24.465597Z",
          "iopub.execute_input": "2025-04-10T07:05:24.465904Z",
          "iopub.status.idle": "2025-04-10T07:05:27.203834Z",
          "shell.execute_reply.started": "2025-04-10T07:05:24.465883Z",
          "shell.execute_reply": "2025-04-10T07:05:27.202876Z"
        },
        "id": "INUdL5C7mY9t"
      },
      "outputs": [],
      "execution_count": null
    },
    {
      "cell_type": "markdown",
      "source": [
        "## Add label column"
      ],
      "metadata": {
        "id": "vQV9RDN7Ma7D"
      }
    },
    {
      "cell_type": "code",
      "source": [
        "fake_data['label'] = 0\n",
        "real_data['label'] = 1"
      ],
      "metadata": {
        "id": "6BRp_Mefoids",
        "trusted": true,
        "execution": {
          "iopub.status.busy": "2025-04-10T07:05:27.204798Z",
          "iopub.execute_input": "2025-04-10T07:05:27.205056Z",
          "iopub.status.idle": "2025-04-10T07:05:27.213506Z",
          "shell.execute_reply.started": "2025-04-10T07:05:27.205035Z",
          "shell.execute_reply": "2025-04-10T07:05:27.212596Z"
        }
      },
      "outputs": [],
      "execution_count": null
    },
    {
      "cell_type": "code",
      "source": [
        "fake_data.shape"
      ],
      "metadata": {
        "id": "tpWzv6ppTU-4",
        "outputId": "8cb83e5a-f132-4852-b497-2483a405656d",
        "trusted": true,
        "execution": {
          "iopub.status.busy": "2025-04-10T07:05:27.214468Z",
          "iopub.execute_input": "2025-04-10T07:05:27.21477Z",
          "iopub.status.idle": "2025-04-10T07:05:27.228455Z",
          "shell.execute_reply.started": "2025-04-10T07:05:27.214746Z",
          "shell.execute_reply": "2025-04-10T07:05:27.227832Z"
        },
        "colab": {
          "base_uri": "https://localhost:8080/"
        }
      },
      "outputs": [
        {
          "output_type": "execute_result",
          "data": {
            "text/plain": [
              "(23481, 5)"
            ]
          },
          "metadata": {},
          "execution_count": 7
        }
      ],
      "execution_count": null
    },
    {
      "cell_type": "code",
      "source": [
        "fake_data.sample(5)"
      ],
      "metadata": {
        "trusted": true,
        "execution": {
          "iopub.status.busy": "2025-04-10T07:05:27.229308Z",
          "iopub.execute_input": "2025-04-10T07:05:27.229535Z",
          "iopub.status.idle": "2025-04-10T07:05:27.259753Z",
          "shell.execute_reply.started": "2025-04-10T07:05:27.229504Z",
          "shell.execute_reply": "2025-04-10T07:05:27.259047Z"
        },
        "id": "DAvIUn0kmY9u",
        "outputId": "32682642-f592-4ed3-9977-bd917fd1f836",
        "colab": {
          "base_uri": "https://localhost:8080/",
          "height": 432
        }
      },
      "outputs": [
        {
          "output_type": "execute_result",
          "data": {
            "text/plain": [
              "                                                   title  \\\n",
              "16814  BREAKING: NORTH KOREA Detains American Student...   \n",
              "1900    Trump’s Longtime Friend Larry King Just STUNG...   \n",
              "18972  SPECTACULAR! Kid Rock Blows Up “Made In China”...   \n",
              "398     Trump Praises Coast Guard’s Hurricane Relief ...   \n",
              "7482    Gov. Chris Christie Bails On Cop’s Funeral To...   \n",
              "\n",
              "                                                    text          subject  \\\n",
              "16814  Apparently it takes just one American student ...  Government News   \n",
              "1900   Larry King has been in the radio and journalis...             News   \n",
              "18972  Michigan born and raised rock phenom Kid Rock ...        left-news   \n",
              "398    Leave it to Donald Trump to disrespect both th...             News   \n",
              "7482   Governor Chris Christie wasted no time after s...             News   \n",
              "\n",
              "                     date  label  \n",
              "16814        Jan 22, 2016      0  \n",
              "1900        April 4, 2017      0  \n",
              "18972        Mar 15, 2017      0  \n",
              "398    September 10, 2017      0  \n",
              "7482       March 15, 2016      0  "
            ],
            "text/html": [
              "\n",
              "  <div id=\"df-eadd9ebe-06cb-485e-9899-aa888ccfd49f\" class=\"colab-df-container\">\n",
              "    <div>\n",
              "<style scoped>\n",
              "    .dataframe tbody tr th:only-of-type {\n",
              "        vertical-align: middle;\n",
              "    }\n",
              "\n",
              "    .dataframe tbody tr th {\n",
              "        vertical-align: top;\n",
              "    }\n",
              "\n",
              "    .dataframe thead th {\n",
              "        text-align: right;\n",
              "    }\n",
              "</style>\n",
              "<table border=\"1\" class=\"dataframe\">\n",
              "  <thead>\n",
              "    <tr style=\"text-align: right;\">\n",
              "      <th></th>\n",
              "      <th>title</th>\n",
              "      <th>text</th>\n",
              "      <th>subject</th>\n",
              "      <th>date</th>\n",
              "      <th>label</th>\n",
              "    </tr>\n",
              "  </thead>\n",
              "  <tbody>\n",
              "    <tr>\n",
              "      <th>16814</th>\n",
              "      <td>BREAKING: NORTH KOREA Detains American Student...</td>\n",
              "      <td>Apparently it takes just one American student ...</td>\n",
              "      <td>Government News</td>\n",
              "      <td>Jan 22, 2016</td>\n",
              "      <td>0</td>\n",
              "    </tr>\n",
              "    <tr>\n",
              "      <th>1900</th>\n",
              "      <td>Trump’s Longtime Friend Larry King Just STUNG...</td>\n",
              "      <td>Larry King has been in the radio and journalis...</td>\n",
              "      <td>News</td>\n",
              "      <td>April 4, 2017</td>\n",
              "      <td>0</td>\n",
              "    </tr>\n",
              "    <tr>\n",
              "      <th>18972</th>\n",
              "      <td>SPECTACULAR! Kid Rock Blows Up “Made In China”...</td>\n",
              "      <td>Michigan born and raised rock phenom Kid Rock ...</td>\n",
              "      <td>left-news</td>\n",
              "      <td>Mar 15, 2017</td>\n",
              "      <td>0</td>\n",
              "    </tr>\n",
              "    <tr>\n",
              "      <th>398</th>\n",
              "      <td>Trump Praises Coast Guard’s Hurricane Relief ...</td>\n",
              "      <td>Leave it to Donald Trump to disrespect both th...</td>\n",
              "      <td>News</td>\n",
              "      <td>September 10, 2017</td>\n",
              "      <td>0</td>\n",
              "    </tr>\n",
              "    <tr>\n",
              "      <th>7482</th>\n",
              "      <td>Gov. Chris Christie Bails On Cop’s Funeral To...</td>\n",
              "      <td>Governor Chris Christie wasted no time after s...</td>\n",
              "      <td>News</td>\n",
              "      <td>March 15, 2016</td>\n",
              "      <td>0</td>\n",
              "    </tr>\n",
              "  </tbody>\n",
              "</table>\n",
              "</div>\n",
              "    <div class=\"colab-df-buttons\">\n",
              "\n",
              "  <div class=\"colab-df-container\">\n",
              "    <button class=\"colab-df-convert\" onclick=\"convertToInteractive('df-eadd9ebe-06cb-485e-9899-aa888ccfd49f')\"\n",
              "            title=\"Convert this dataframe to an interactive table.\"\n",
              "            style=\"display:none;\">\n",
              "\n",
              "  <svg xmlns=\"http://www.w3.org/2000/svg\" height=\"24px\" viewBox=\"0 -960 960 960\">\n",
              "    <path d=\"M120-120v-720h720v720H120Zm60-500h600v-160H180v160Zm220 220h160v-160H400v160Zm0 220h160v-160H400v160ZM180-400h160v-160H180v160Zm440 0h160v-160H620v160ZM180-180h160v-160H180v160Zm440 0h160v-160H620v160Z\"/>\n",
              "  </svg>\n",
              "    </button>\n",
              "\n",
              "  <style>\n",
              "    .colab-df-container {\n",
              "      display:flex;\n",
              "      gap: 12px;\n",
              "    }\n",
              "\n",
              "    .colab-df-convert {\n",
              "      background-color: #E8F0FE;\n",
              "      border: none;\n",
              "      border-radius: 50%;\n",
              "      cursor: pointer;\n",
              "      display: none;\n",
              "      fill: #1967D2;\n",
              "      height: 32px;\n",
              "      padding: 0 0 0 0;\n",
              "      width: 32px;\n",
              "    }\n",
              "\n",
              "    .colab-df-convert:hover {\n",
              "      background-color: #E2EBFA;\n",
              "      box-shadow: 0px 1px 2px rgba(60, 64, 67, 0.3), 0px 1px 3px 1px rgba(60, 64, 67, 0.15);\n",
              "      fill: #174EA6;\n",
              "    }\n",
              "\n",
              "    .colab-df-buttons div {\n",
              "      margin-bottom: 4px;\n",
              "    }\n",
              "\n",
              "    [theme=dark] .colab-df-convert {\n",
              "      background-color: #3B4455;\n",
              "      fill: #D2E3FC;\n",
              "    }\n",
              "\n",
              "    [theme=dark] .colab-df-convert:hover {\n",
              "      background-color: #434B5C;\n",
              "      box-shadow: 0px 1px 3px 1px rgba(0, 0, 0, 0.15);\n",
              "      filter: drop-shadow(0px 1px 2px rgba(0, 0, 0, 0.3));\n",
              "      fill: #FFFFFF;\n",
              "    }\n",
              "  </style>\n",
              "\n",
              "    <script>\n",
              "      const buttonEl =\n",
              "        document.querySelector('#df-eadd9ebe-06cb-485e-9899-aa888ccfd49f button.colab-df-convert');\n",
              "      buttonEl.style.display =\n",
              "        google.colab.kernel.accessAllowed ? 'block' : 'none';\n",
              "\n",
              "      async function convertToInteractive(key) {\n",
              "        const element = document.querySelector('#df-eadd9ebe-06cb-485e-9899-aa888ccfd49f');\n",
              "        const dataTable =\n",
              "          await google.colab.kernel.invokeFunction('convertToInteractive',\n",
              "                                                    [key], {});\n",
              "        if (!dataTable) return;\n",
              "\n",
              "        const docLinkHtml = 'Like what you see? Visit the ' +\n",
              "          '<a target=\"_blank\" href=https://colab.research.google.com/notebooks/data_table.ipynb>data table notebook</a>'\n",
              "          + ' to learn more about interactive tables.';\n",
              "        element.innerHTML = '';\n",
              "        dataTable['output_type'] = 'display_data';\n",
              "        await google.colab.output.renderOutput(dataTable, element);\n",
              "        const docLink = document.createElement('div');\n",
              "        docLink.innerHTML = docLinkHtml;\n",
              "        element.appendChild(docLink);\n",
              "      }\n",
              "    </script>\n",
              "  </div>\n",
              "\n",
              "\n",
              "<div id=\"df-4584ea0e-55dd-4d8d-bbc1-d23347433553\">\n",
              "  <button class=\"colab-df-quickchart\" onclick=\"quickchart('df-4584ea0e-55dd-4d8d-bbc1-d23347433553')\"\n",
              "            title=\"Suggest charts\"\n",
              "            style=\"display:none;\">\n",
              "\n",
              "<svg xmlns=\"http://www.w3.org/2000/svg\" height=\"24px\"viewBox=\"0 0 24 24\"\n",
              "     width=\"24px\">\n",
              "    <g>\n",
              "        <path d=\"M19 3H5c-1.1 0-2 .9-2 2v14c0 1.1.9 2 2 2h14c1.1 0 2-.9 2-2V5c0-1.1-.9-2-2-2zM9 17H7v-7h2v7zm4 0h-2V7h2v10zm4 0h-2v-4h2v4z\"/>\n",
              "    </g>\n",
              "</svg>\n",
              "  </button>\n",
              "\n",
              "<style>\n",
              "  .colab-df-quickchart {\n",
              "      --bg-color: #E8F0FE;\n",
              "      --fill-color: #1967D2;\n",
              "      --hover-bg-color: #E2EBFA;\n",
              "      --hover-fill-color: #174EA6;\n",
              "      --disabled-fill-color: #AAA;\n",
              "      --disabled-bg-color: #DDD;\n",
              "  }\n",
              "\n",
              "  [theme=dark] .colab-df-quickchart {\n",
              "      --bg-color: #3B4455;\n",
              "      --fill-color: #D2E3FC;\n",
              "      --hover-bg-color: #434B5C;\n",
              "      --hover-fill-color: #FFFFFF;\n",
              "      --disabled-bg-color: #3B4455;\n",
              "      --disabled-fill-color: #666;\n",
              "  }\n",
              "\n",
              "  .colab-df-quickchart {\n",
              "    background-color: var(--bg-color);\n",
              "    border: none;\n",
              "    border-radius: 50%;\n",
              "    cursor: pointer;\n",
              "    display: none;\n",
              "    fill: var(--fill-color);\n",
              "    height: 32px;\n",
              "    padding: 0;\n",
              "    width: 32px;\n",
              "  }\n",
              "\n",
              "  .colab-df-quickchart:hover {\n",
              "    background-color: var(--hover-bg-color);\n",
              "    box-shadow: 0 1px 2px rgba(60, 64, 67, 0.3), 0 1px 3px 1px rgba(60, 64, 67, 0.15);\n",
              "    fill: var(--button-hover-fill-color);\n",
              "  }\n",
              "\n",
              "  .colab-df-quickchart-complete:disabled,\n",
              "  .colab-df-quickchart-complete:disabled:hover {\n",
              "    background-color: var(--disabled-bg-color);\n",
              "    fill: var(--disabled-fill-color);\n",
              "    box-shadow: none;\n",
              "  }\n",
              "\n",
              "  .colab-df-spinner {\n",
              "    border: 2px solid var(--fill-color);\n",
              "    border-color: transparent;\n",
              "    border-bottom-color: var(--fill-color);\n",
              "    animation:\n",
              "      spin 1s steps(1) infinite;\n",
              "  }\n",
              "\n",
              "  @keyframes spin {\n",
              "    0% {\n",
              "      border-color: transparent;\n",
              "      border-bottom-color: var(--fill-color);\n",
              "      border-left-color: var(--fill-color);\n",
              "    }\n",
              "    20% {\n",
              "      border-color: transparent;\n",
              "      border-left-color: var(--fill-color);\n",
              "      border-top-color: var(--fill-color);\n",
              "    }\n",
              "    30% {\n",
              "      border-color: transparent;\n",
              "      border-left-color: var(--fill-color);\n",
              "      border-top-color: var(--fill-color);\n",
              "      border-right-color: var(--fill-color);\n",
              "    }\n",
              "    40% {\n",
              "      border-color: transparent;\n",
              "      border-right-color: var(--fill-color);\n",
              "      border-top-color: var(--fill-color);\n",
              "    }\n",
              "    60% {\n",
              "      border-color: transparent;\n",
              "      border-right-color: var(--fill-color);\n",
              "    }\n",
              "    80% {\n",
              "      border-color: transparent;\n",
              "      border-right-color: var(--fill-color);\n",
              "      border-bottom-color: var(--fill-color);\n",
              "    }\n",
              "    90% {\n",
              "      border-color: transparent;\n",
              "      border-bottom-color: var(--fill-color);\n",
              "    }\n",
              "  }\n",
              "</style>\n",
              "\n",
              "  <script>\n",
              "    async function quickchart(key) {\n",
              "      const quickchartButtonEl =\n",
              "        document.querySelector('#' + key + ' button');\n",
              "      quickchartButtonEl.disabled = true;  // To prevent multiple clicks.\n",
              "      quickchartButtonEl.classList.add('colab-df-spinner');\n",
              "      try {\n",
              "        const charts = await google.colab.kernel.invokeFunction(\n",
              "            'suggestCharts', [key], {});\n",
              "      } catch (error) {\n",
              "        console.error('Error during call to suggestCharts:', error);\n",
              "      }\n",
              "      quickchartButtonEl.classList.remove('colab-df-spinner');\n",
              "      quickchartButtonEl.classList.add('colab-df-quickchart-complete');\n",
              "    }\n",
              "    (() => {\n",
              "      let quickchartButtonEl =\n",
              "        document.querySelector('#df-4584ea0e-55dd-4d8d-bbc1-d23347433553 button');\n",
              "      quickchartButtonEl.style.display =\n",
              "        google.colab.kernel.accessAllowed ? 'block' : 'none';\n",
              "    })();\n",
              "  </script>\n",
              "</div>\n",
              "\n",
              "    </div>\n",
              "  </div>\n"
            ],
            "application/vnd.google.colaboratory.intrinsic+json": {
              "type": "dataframe",
              "summary": "{\n  \"name\": \"fake_data\",\n  \"rows\": 5,\n  \"fields\": [\n    {\n      \"column\": \"title\",\n      \"properties\": {\n        \"dtype\": \"string\",\n        \"num_unique_values\": 5,\n        \"samples\": [\n          \" Trump\\u2019s Longtime Friend Larry King Just STUNG Him So Hard He\\u2019ll Be Fuming For Weeks\",\n          \" Gov. Chris Christie Bails On Cop\\u2019s Funeral To Campaign For Trump\",\n          \"SPECTACULAR! Kid Rock Blows Up \\u201cMade In China\\u201d Grills In New Marketing Campaign For \\u201cAmerican Badass Grill\\u201d [VIDEO]\"\n        ],\n        \"semantic_type\": \"\",\n        \"description\": \"\"\n      }\n    },\n    {\n      \"column\": \"text\",\n      \"properties\": {\n        \"dtype\": \"string\",\n        \"num_unique_values\": 5,\n        \"samples\": [\n          \"Larry King has been in the radio and journalism business since 1957 and he s a longtime friend of Donald Trump, so what he just said about him is significant.Trump has taken a ton of criticism since taking office over two months ago, and rightfully so.After all, Trump s scandals continued to stack up and his ineptitude has no end in sight. He opens his mouth when he should keep it shut and he embarrasses himself and this nation with every word he utters and every move he makes. He would rather golf instead of doing his damn job and he appears hell bent on destroying our government. He insults our allies and praises dictators. To make a long story short, Trump has turned America into a laughingstock around the globe.And Larry King put an exclamation point on that fact on Monday during an appearance on Sirius XM s  Tell Me Everything  with host John Fugelsang.King told Fugelsang that Trump s presidency is the  most ridiculous  he s ever seen and went on to slam Trump for appointing people to head departments they want to destroy, specifically referring to Betsy DeVos and Scott Pruitt, who run the Department of Education and the Environmental Protection Agency. It s almost funny,  King began.  To run the Environmental Protection Agency (EPA), he hires an anti-environment guy. To run the Secretary of Education, he hires someone who doesn t like education. Doesn t like public schools. That s weird, man. King then further expanded upon his thoughts on the environment by calling out Trump s climate change denial. Trump gets us out of climate change. Who doesn t notice climate change? It s obviously caused by carbon dioxide,  he continued.  To act like it doesn t exist, that s insane. Miami Beach is not going to exist after 2100. Come on. That s climate change. To act like it doesn t exist is insane. I ve got to admit that so far, this is one of the most ridiculous presidencies I ve ever seen,  King concluded.Here s the video via Twitter. This is one of the most ridiculous presidencies I ve ever seen,  @kingsthings told @JohnFugelsang of his friend Donald Trump. pic.twitter.com/17X6fo7n7J  SiriusXMPolitics (@SXMPolitics) April 3, 2017Now we can expect Donald Trump s next Twitter tantrum to be all about how his friend somehow betrayed him by telling the truth.Featured Image: Screenshot\",\n          \"Governor Chris Christie wasted no time after suspending his presidential campaign to swoon over Donald Trump, the clear favorite to win the Republican Presidential nomination, in hopes his support would result in improving his own public image in the Republican Party, with an eye on a position in Trump s presidential administration.On Monday, Governor Chris Christie should have been in New Jersey to attend the funeral of 31-year-old New Jersey State Trooper Sean Cullen, who was killed in the line of duty last week after being struck by a vehicle in response to a highway car fire. Instead, Governor Christie is ignoring his duties as Governor to be a full-time surrogate for Donald Trumps  presidential campaign, as Christie was in Florida campaigning on Trump s behalf.Lt. Gov. Kim Guadagno attended the funeral in place of Governor Christie, who referred questions about his scheduling to the Trump campaign, who, not surprisingly, did not reply to the media s requests for comment on the issue.This is the third police funeral Governor Christie has missed since December. It is disgraceful that a public official elected by the people is ignoring the public servicemen who sacrificed themselves in the line of duty.The president of the state troopers  union, Christopher Burgos, criticized Governor Christie for his actions. We are focused on honoring our fallen brother today, and quite frankly we did not expect someone who has consistently shown disdain for law enforcement to pay his respects to the Cullen and State Police family, said Burgos to Politico New Jersey. May Sean rest in peace. A wonderful family. Tragic,  he said.  Gov s decision making is predicated on selfish political opportunism, that much is clear. 1,000 officers attended the funeral to mourn the fallen New Jersey State Trooper. He orders flags flown at half-mast, but couldn t stay for the funeral?  New Jersey state Senate Majority Leader Loretta Weinberg, a Democrat, told New York Daily News .  It s a choice that symbolizes how he feels about the State of New Jersey. It isn t even his campaign. Featured image via Flickr\",\n          \"Michigan born and raised rock phenom Kid Rock is a big fan of President Trump and he s not afraid to admit it. I m proud to say Robert Ritchie, aka Kid Rock was born and raised in Romeo, MI, the same rural hometown where I grew up. Hunting was a common sport for kids who attended our high school, and many of the parents were employed by Chrysler, Ford or GM. Given his strong rural American roots, it s no surprise that he s such a big supporter of  made in America  products.  Kid Rock has been putting his money where his mouth is for quite some time with his wildly popular line of Made in Detroit products. He recently caused quite a stir with his line of t-shirts that are being sold that proudly show his support for President Trump.Kid Rock has announced his latest venture, the American Badass grill. Much like Trump, the outspoken rocker is taking it to China in his most recent videos, that show both his love for guns and his love for American made products.Here s his hilarious American-made  American Badass Grill  ad that showcases both Ritchie s love for guns and his dislike for products made in China. We got grills that are made in China, and we got .50 cals that are made in America. This is 100 percent pure American badass.  The goal was to show  what it looks like when Chinese-made grills meet American-made explosives. :Here s the ad Kid Rock uses on his website to describe why he s making  Made in America  grills. Go HERE to purchase the versatile $100 grill:In this ad, Ritchie and friends can be seen using a special technique to destroy BBQ grills that are made in China.  If it s not made in America like the Kid Rock American Badass Grill, you don t want it. : It really would be dumb to buy any grill other than the American Badass, which aims to  Make Grilling Great Again. When you get something made in America, the quality is going to be better,  Kid Rock explains.  Win, win, win, win, all the way around. It is one of the most versatile grills on the market. It is  large enough to fit 12 burgers, small enough to take the party on the road,  and also features a dual damper system that allows it to cook in different ways. The American Badass Grill comes with a dual damper system so you can control heat, the key to perfect grilling,  the website says.  Open the vents, let in more air and you ll turn up the heat for fast grilling with a nice sear. Close the vents to lower heat for low and slow grilling. The grills cost about $100. To paraphrase another American hero, go buy Kid Rock s stuff.  WFB\"\n        ],\n        \"semantic_type\": \"\",\n        \"description\": \"\"\n      }\n    },\n    {\n      \"column\": \"subject\",\n      \"properties\": {\n        \"dtype\": \"string\",\n        \"num_unique_values\": 3,\n        \"samples\": [\n          \"Government News\",\n          \"News\",\n          \"left-news\"\n        ],\n        \"semantic_type\": \"\",\n        \"description\": \"\"\n      }\n    },\n    {\n      \"column\": \"date\",\n      \"properties\": {\n        \"dtype\": \"string\",\n        \"num_unique_values\": 5,\n        \"samples\": [\n          \"April 4, 2017\",\n          \"March 15, 2016\",\n          \"Mar 15, 2017\"\n        ],\n        \"semantic_type\": \"\",\n        \"description\": \"\"\n      }\n    },\n    {\n      \"column\": \"label\",\n      \"properties\": {\n        \"dtype\": \"number\",\n        \"std\": 0,\n        \"min\": 0,\n        \"max\": 0,\n        \"num_unique_values\": 1,\n        \"samples\": [\n          0\n        ],\n        \"semantic_type\": \"\",\n        \"description\": \"\"\n      }\n    }\n  ]\n}"
            }
          },
          "metadata": {},
          "execution_count": 8
        }
      ],
      "execution_count": null
    },
    {
      "cell_type": "code",
      "source": [
        "real_data.shape"
      ],
      "metadata": {
        "id": "ziPAdveTTR_W",
        "outputId": "932d22fe-c44f-4784-f78b-0fc19ac482b0",
        "trusted": true,
        "execution": {
          "iopub.status.busy": "2025-04-10T07:05:27.261574Z",
          "iopub.execute_input": "2025-04-10T07:05:27.261805Z",
          "iopub.status.idle": "2025-04-10T07:05:27.266374Z",
          "shell.execute_reply.started": "2025-04-10T07:05:27.261787Z",
          "shell.execute_reply": "2025-04-10T07:05:27.265741Z"
        },
        "colab": {
          "base_uri": "https://localhost:8080/"
        }
      },
      "outputs": [
        {
          "output_type": "execute_result",
          "data": {
            "text/plain": [
              "(21417, 5)"
            ]
          },
          "metadata": {},
          "execution_count": 9
        }
      ],
      "execution_count": null
    },
    {
      "cell_type": "code",
      "source": [
        "real_data.sample(5)"
      ],
      "metadata": {
        "trusted": true,
        "execution": {
          "iopub.status.busy": "2025-04-10T07:05:27.267963Z",
          "iopub.execute_input": "2025-04-10T07:05:27.268157Z",
          "iopub.status.idle": "2025-04-10T07:05:27.282641Z",
          "shell.execute_reply.started": "2025-04-10T07:05:27.268141Z",
          "shell.execute_reply": "2025-04-10T07:05:27.281995Z"
        },
        "id": "ZVhF5I2GmY9u",
        "outputId": "324f4e00-8aaf-4c13-88af-4bacfa6dc903",
        "colab": {
          "base_uri": "https://localhost:8080/",
          "height": 380
        }
      },
      "outputs": [
        {
          "output_type": "execute_result",
          "data": {
            "text/plain": [
              "                                                   title  \\\n",
              "13257  Cholera could resurge in Yemen due to lack of ...   \n",
              "12703  Sri Lanka parliament backs tax exemptions for ...   \n",
              "10026  Vanguard CEO 'encouraged' by efforts to revise...   \n",
              "18337  City of Oxford strips Aung San Suu Kyi of huma...   \n",
              "13401  Argentina blocks some activists from attending...   \n",
              "\n",
              "                                                    text       subject  \\\n",
              "13257  GENEVA (Reuters) - Another wave of cholera cou...     worldnews   \n",
              "12703  COLOMBO (Reuters) - Sri Lanka s parliament app...     worldnews   \n",
              "10026  (Reuters) - Vanguard Group Chief Executive Bil...  politicsNews   \n",
              "18337  LONDON (Reuters) - Myanmar leader Aung San Suu...     worldnews   \n",
              "13401  BUENOS AIRES (Reuters) - Argentina revoked the...     worldnews   \n",
              "\n",
              "                     date  label  \n",
              "13257   December 3, 2017       1  \n",
              "12703   December 8, 2017       1  \n",
              "10026      April 7, 2016       1  \n",
              "18337    October 4, 2017       1  \n",
              "13401  November 30, 2017       1  "
            ],
            "text/html": [
              "\n",
              "  <div id=\"df-74826492-de2d-478b-9a1d-69e0481ac724\" class=\"colab-df-container\">\n",
              "    <div>\n",
              "<style scoped>\n",
              "    .dataframe tbody tr th:only-of-type {\n",
              "        vertical-align: middle;\n",
              "    }\n",
              "\n",
              "    .dataframe tbody tr th {\n",
              "        vertical-align: top;\n",
              "    }\n",
              "\n",
              "    .dataframe thead th {\n",
              "        text-align: right;\n",
              "    }\n",
              "</style>\n",
              "<table border=\"1\" class=\"dataframe\">\n",
              "  <thead>\n",
              "    <tr style=\"text-align: right;\">\n",
              "      <th></th>\n",
              "      <th>title</th>\n",
              "      <th>text</th>\n",
              "      <th>subject</th>\n",
              "      <th>date</th>\n",
              "      <th>label</th>\n",
              "    </tr>\n",
              "  </thead>\n",
              "  <tbody>\n",
              "    <tr>\n",
              "      <th>13257</th>\n",
              "      <td>Cholera could resurge in Yemen due to lack of ...</td>\n",
              "      <td>GENEVA (Reuters) - Another wave of cholera cou...</td>\n",
              "      <td>worldnews</td>\n",
              "      <td>December 3, 2017</td>\n",
              "      <td>1</td>\n",
              "    </tr>\n",
              "    <tr>\n",
              "      <th>12703</th>\n",
              "      <td>Sri Lanka parliament backs tax exemptions for ...</td>\n",
              "      <td>COLOMBO (Reuters) - Sri Lanka s parliament app...</td>\n",
              "      <td>worldnews</td>\n",
              "      <td>December 8, 2017</td>\n",
              "      <td>1</td>\n",
              "    </tr>\n",
              "    <tr>\n",
              "      <th>10026</th>\n",
              "      <td>Vanguard CEO 'encouraged' by efforts to revise...</td>\n",
              "      <td>(Reuters) - Vanguard Group Chief Executive Bil...</td>\n",
              "      <td>politicsNews</td>\n",
              "      <td>April 7, 2016</td>\n",
              "      <td>1</td>\n",
              "    </tr>\n",
              "    <tr>\n",
              "      <th>18337</th>\n",
              "      <td>City of Oxford strips Aung San Suu Kyi of huma...</td>\n",
              "      <td>LONDON (Reuters) - Myanmar leader Aung San Suu...</td>\n",
              "      <td>worldnews</td>\n",
              "      <td>October 4, 2017</td>\n",
              "      <td>1</td>\n",
              "    </tr>\n",
              "    <tr>\n",
              "      <th>13401</th>\n",
              "      <td>Argentina blocks some activists from attending...</td>\n",
              "      <td>BUENOS AIRES (Reuters) - Argentina revoked the...</td>\n",
              "      <td>worldnews</td>\n",
              "      <td>November 30, 2017</td>\n",
              "      <td>1</td>\n",
              "    </tr>\n",
              "  </tbody>\n",
              "</table>\n",
              "</div>\n",
              "    <div class=\"colab-df-buttons\">\n",
              "\n",
              "  <div class=\"colab-df-container\">\n",
              "    <button class=\"colab-df-convert\" onclick=\"convertToInteractive('df-74826492-de2d-478b-9a1d-69e0481ac724')\"\n",
              "            title=\"Convert this dataframe to an interactive table.\"\n",
              "            style=\"display:none;\">\n",
              "\n",
              "  <svg xmlns=\"http://www.w3.org/2000/svg\" height=\"24px\" viewBox=\"0 -960 960 960\">\n",
              "    <path d=\"M120-120v-720h720v720H120Zm60-500h600v-160H180v160Zm220 220h160v-160H400v160Zm0 220h160v-160H400v160ZM180-400h160v-160H180v160Zm440 0h160v-160H620v160ZM180-180h160v-160H180v160Zm440 0h160v-160H620v160Z\"/>\n",
              "  </svg>\n",
              "    </button>\n",
              "\n",
              "  <style>\n",
              "    .colab-df-container {\n",
              "      display:flex;\n",
              "      gap: 12px;\n",
              "    }\n",
              "\n",
              "    .colab-df-convert {\n",
              "      background-color: #E8F0FE;\n",
              "      border: none;\n",
              "      border-radius: 50%;\n",
              "      cursor: pointer;\n",
              "      display: none;\n",
              "      fill: #1967D2;\n",
              "      height: 32px;\n",
              "      padding: 0 0 0 0;\n",
              "      width: 32px;\n",
              "    }\n",
              "\n",
              "    .colab-df-convert:hover {\n",
              "      background-color: #E2EBFA;\n",
              "      box-shadow: 0px 1px 2px rgba(60, 64, 67, 0.3), 0px 1px 3px 1px rgba(60, 64, 67, 0.15);\n",
              "      fill: #174EA6;\n",
              "    }\n",
              "\n",
              "    .colab-df-buttons div {\n",
              "      margin-bottom: 4px;\n",
              "    }\n",
              "\n",
              "    [theme=dark] .colab-df-convert {\n",
              "      background-color: #3B4455;\n",
              "      fill: #D2E3FC;\n",
              "    }\n",
              "\n",
              "    [theme=dark] .colab-df-convert:hover {\n",
              "      background-color: #434B5C;\n",
              "      box-shadow: 0px 1px 3px 1px rgba(0, 0, 0, 0.15);\n",
              "      filter: drop-shadow(0px 1px 2px rgba(0, 0, 0, 0.3));\n",
              "      fill: #FFFFFF;\n",
              "    }\n",
              "  </style>\n",
              "\n",
              "    <script>\n",
              "      const buttonEl =\n",
              "        document.querySelector('#df-74826492-de2d-478b-9a1d-69e0481ac724 button.colab-df-convert');\n",
              "      buttonEl.style.display =\n",
              "        google.colab.kernel.accessAllowed ? 'block' : 'none';\n",
              "\n",
              "      async function convertToInteractive(key) {\n",
              "        const element = document.querySelector('#df-74826492-de2d-478b-9a1d-69e0481ac724');\n",
              "        const dataTable =\n",
              "          await google.colab.kernel.invokeFunction('convertToInteractive',\n",
              "                                                    [key], {});\n",
              "        if (!dataTable) return;\n",
              "\n",
              "        const docLinkHtml = 'Like what you see? Visit the ' +\n",
              "          '<a target=\"_blank\" href=https://colab.research.google.com/notebooks/data_table.ipynb>data table notebook</a>'\n",
              "          + ' to learn more about interactive tables.';\n",
              "        element.innerHTML = '';\n",
              "        dataTable['output_type'] = 'display_data';\n",
              "        await google.colab.output.renderOutput(dataTable, element);\n",
              "        const docLink = document.createElement('div');\n",
              "        docLink.innerHTML = docLinkHtml;\n",
              "        element.appendChild(docLink);\n",
              "      }\n",
              "    </script>\n",
              "  </div>\n",
              "\n",
              "\n",
              "<div id=\"df-13d71e0c-10f2-4991-9987-0f9c3a7f66ca\">\n",
              "  <button class=\"colab-df-quickchart\" onclick=\"quickchart('df-13d71e0c-10f2-4991-9987-0f9c3a7f66ca')\"\n",
              "            title=\"Suggest charts\"\n",
              "            style=\"display:none;\">\n",
              "\n",
              "<svg xmlns=\"http://www.w3.org/2000/svg\" height=\"24px\"viewBox=\"0 0 24 24\"\n",
              "     width=\"24px\">\n",
              "    <g>\n",
              "        <path d=\"M19 3H5c-1.1 0-2 .9-2 2v14c0 1.1.9 2 2 2h14c1.1 0 2-.9 2-2V5c0-1.1-.9-2-2-2zM9 17H7v-7h2v7zm4 0h-2V7h2v10zm4 0h-2v-4h2v4z\"/>\n",
              "    </g>\n",
              "</svg>\n",
              "  </button>\n",
              "\n",
              "<style>\n",
              "  .colab-df-quickchart {\n",
              "      --bg-color: #E8F0FE;\n",
              "      --fill-color: #1967D2;\n",
              "      --hover-bg-color: #E2EBFA;\n",
              "      --hover-fill-color: #174EA6;\n",
              "      --disabled-fill-color: #AAA;\n",
              "      --disabled-bg-color: #DDD;\n",
              "  }\n",
              "\n",
              "  [theme=dark] .colab-df-quickchart {\n",
              "      --bg-color: #3B4455;\n",
              "      --fill-color: #D2E3FC;\n",
              "      --hover-bg-color: #434B5C;\n",
              "      --hover-fill-color: #FFFFFF;\n",
              "      --disabled-bg-color: #3B4455;\n",
              "      --disabled-fill-color: #666;\n",
              "  }\n",
              "\n",
              "  .colab-df-quickchart {\n",
              "    background-color: var(--bg-color);\n",
              "    border: none;\n",
              "    border-radius: 50%;\n",
              "    cursor: pointer;\n",
              "    display: none;\n",
              "    fill: var(--fill-color);\n",
              "    height: 32px;\n",
              "    padding: 0;\n",
              "    width: 32px;\n",
              "  }\n",
              "\n",
              "  .colab-df-quickchart:hover {\n",
              "    background-color: var(--hover-bg-color);\n",
              "    box-shadow: 0 1px 2px rgba(60, 64, 67, 0.3), 0 1px 3px 1px rgba(60, 64, 67, 0.15);\n",
              "    fill: var(--button-hover-fill-color);\n",
              "  }\n",
              "\n",
              "  .colab-df-quickchart-complete:disabled,\n",
              "  .colab-df-quickchart-complete:disabled:hover {\n",
              "    background-color: var(--disabled-bg-color);\n",
              "    fill: var(--disabled-fill-color);\n",
              "    box-shadow: none;\n",
              "  }\n",
              "\n",
              "  .colab-df-spinner {\n",
              "    border: 2px solid var(--fill-color);\n",
              "    border-color: transparent;\n",
              "    border-bottom-color: var(--fill-color);\n",
              "    animation:\n",
              "      spin 1s steps(1) infinite;\n",
              "  }\n",
              "\n",
              "  @keyframes spin {\n",
              "    0% {\n",
              "      border-color: transparent;\n",
              "      border-bottom-color: var(--fill-color);\n",
              "      border-left-color: var(--fill-color);\n",
              "    }\n",
              "    20% {\n",
              "      border-color: transparent;\n",
              "      border-left-color: var(--fill-color);\n",
              "      border-top-color: var(--fill-color);\n",
              "    }\n",
              "    30% {\n",
              "      border-color: transparent;\n",
              "      border-left-color: var(--fill-color);\n",
              "      border-top-color: var(--fill-color);\n",
              "      border-right-color: var(--fill-color);\n",
              "    }\n",
              "    40% {\n",
              "      border-color: transparent;\n",
              "      border-right-color: var(--fill-color);\n",
              "      border-top-color: var(--fill-color);\n",
              "    }\n",
              "    60% {\n",
              "      border-color: transparent;\n",
              "      border-right-color: var(--fill-color);\n",
              "    }\n",
              "    80% {\n",
              "      border-color: transparent;\n",
              "      border-right-color: var(--fill-color);\n",
              "      border-bottom-color: var(--fill-color);\n",
              "    }\n",
              "    90% {\n",
              "      border-color: transparent;\n",
              "      border-bottom-color: var(--fill-color);\n",
              "    }\n",
              "  }\n",
              "</style>\n",
              "\n",
              "  <script>\n",
              "    async function quickchart(key) {\n",
              "      const quickchartButtonEl =\n",
              "        document.querySelector('#' + key + ' button');\n",
              "      quickchartButtonEl.disabled = true;  // To prevent multiple clicks.\n",
              "      quickchartButtonEl.classList.add('colab-df-spinner');\n",
              "      try {\n",
              "        const charts = await google.colab.kernel.invokeFunction(\n",
              "            'suggestCharts', [key], {});\n",
              "      } catch (error) {\n",
              "        console.error('Error during call to suggestCharts:', error);\n",
              "      }\n",
              "      quickchartButtonEl.classList.remove('colab-df-spinner');\n",
              "      quickchartButtonEl.classList.add('colab-df-quickchart-complete');\n",
              "    }\n",
              "    (() => {\n",
              "      let quickchartButtonEl =\n",
              "        document.querySelector('#df-13d71e0c-10f2-4991-9987-0f9c3a7f66ca button');\n",
              "      quickchartButtonEl.style.display =\n",
              "        google.colab.kernel.accessAllowed ? 'block' : 'none';\n",
              "    })();\n",
              "  </script>\n",
              "</div>\n",
              "\n",
              "    </div>\n",
              "  </div>\n"
            ],
            "application/vnd.google.colaboratory.intrinsic+json": {
              "type": "dataframe",
              "repr_error": "0"
            }
          },
          "metadata": {},
          "execution_count": 10
        }
      ],
      "execution_count": null
    },
    {
      "cell_type": "markdown",
      "source": [
        "## Merge Data"
      ],
      "metadata": {
        "id": "i0vdvB38nm6R"
      }
    },
    {
      "cell_type": "code",
      "source": [
        "data = pd.concat([fake_data, real_data], ignore_index=True)"
      ],
      "metadata": {
        "trusted": true,
        "id": "RHoQYWBrmY9v",
        "execution": {
          "iopub.status.busy": "2025-04-10T07:05:27.283419Z",
          "iopub.execute_input": "2025-04-10T07:05:27.283629Z",
          "iopub.status.idle": "2025-04-10T07:05:27.298566Z",
          "shell.execute_reply.started": "2025-04-10T07:05:27.28361Z",
          "shell.execute_reply": "2025-04-10T07:05:27.297895Z"
        }
      },
      "outputs": [],
      "execution_count": null
    },
    {
      "cell_type": "code",
      "source": [
        "data.sample(10)"
      ],
      "metadata": {
        "trusted": true,
        "id": "jdzQw5dJmY9v",
        "outputId": "aeb703aa-cbbf-4d33-fab2-56b9251ddf3a",
        "execution": {
          "iopub.status.busy": "2025-04-10T07:05:27.299402Z",
          "iopub.execute_input": "2025-04-10T07:05:27.299655Z",
          "iopub.status.idle": "2025-04-10T07:05:27.317097Z",
          "shell.execute_reply.started": "2025-04-10T07:05:27.299636Z",
          "shell.execute_reply": "2025-04-10T07:05:27.316199Z"
        },
        "colab": {
          "base_uri": "https://localhost:8080/",
          "height": 728
        }
      },
      "outputs": [
        {
          "output_type": "execute_result",
          "data": {
            "text/plain": [
              "                                                   title  \\\n",
              "16051  WHY DEMOCRATS KEEP LOSING: Rep. Hakeem Jeffrie...   \n",
              "28267  Supreme Court rules uniform design elements ca...   \n",
              "35243  Venezuela may ban main opposition parties from...   \n",
              "35045  No man an island - China warns against strayin...   \n",
              "28311  Tillerson signaled U.S. policy of patience on ...   \n",
              "18749  TOWN’S PARADE CANCELED After Violent Antifa Ra...   \n",
              "3921    Obama’s EPIC Smackdown Of GOP Senator For Usi...   \n",
              "31012  Betting sites see record wagering on U.S. pres...   \n",
              "12286  MARCO RUBIO Weighs In On Castro’s Death: “He d...   \n",
              "11853  VIDEO: CROWD Chants “LOCK HER UP!” As Crooked ...   \n",
              "\n",
              "                                                    text          subject  \\\n",
              "16051  Hakeem Jeffries just exposed his Trump Derange...  Government News   \n",
              "28267  (Reuters) - The U.S. Supreme Court on Wednesda...     politicsNews   \n",
              "35243  CARACAS (Reuters) - Venezuela s pro-government...        worldnews   \n",
              "35045  BEIJING (Reuters) - Members of China s ruling ...        worldnews   \n",
              "28311  WASHINGTON (Reuters) - U.S. Secretary of State...     politicsNews   \n",
              "18749  The irony in this entire cancellation of a tra...        left-news   \n",
              "3921   Senator Pat Toomey is a staunch Republican cau...             News   \n",
              "31012  NEW YORK (Reuters) - The raucous, passionate a...     politicsNews   \n",
              "12286                                                            politics   \n",
              "11853  Boos and chants of  Lock her up!  were heard i...         politics   \n",
              "\n",
              "                     date  label  \n",
              "16051        Jun 13, 2017      0  \n",
              "28267     March 22, 2017       1  \n",
              "35243  December 21, 2017       1  \n",
              "35045  December 22, 2017       1  \n",
              "28311     March 20, 2017       1  \n",
              "18749        Apr 26, 2017      0  \n",
              "3921     November 5, 2016      0  \n",
              "31012   November 7, 2016       1  \n",
              "12286        Nov 27, 2016      0  \n",
              "11853        Jan 20, 2017      0  "
            ],
            "text/html": [
              "\n",
              "  <div id=\"df-0bf42d6f-6c32-4091-9cca-c064593916d0\" class=\"colab-df-container\">\n",
              "    <div>\n",
              "<style scoped>\n",
              "    .dataframe tbody tr th:only-of-type {\n",
              "        vertical-align: middle;\n",
              "    }\n",
              "\n",
              "    .dataframe tbody tr th {\n",
              "        vertical-align: top;\n",
              "    }\n",
              "\n",
              "    .dataframe thead th {\n",
              "        text-align: right;\n",
              "    }\n",
              "</style>\n",
              "<table border=\"1\" class=\"dataframe\">\n",
              "  <thead>\n",
              "    <tr style=\"text-align: right;\">\n",
              "      <th></th>\n",
              "      <th>title</th>\n",
              "      <th>text</th>\n",
              "      <th>subject</th>\n",
              "      <th>date</th>\n",
              "      <th>label</th>\n",
              "    </tr>\n",
              "  </thead>\n",
              "  <tbody>\n",
              "    <tr>\n",
              "      <th>16051</th>\n",
              "      <td>WHY DEMOCRATS KEEP LOSING: Rep. Hakeem Jeffrie...</td>\n",
              "      <td>Hakeem Jeffries just exposed his Trump Derange...</td>\n",
              "      <td>Government News</td>\n",
              "      <td>Jun 13, 2017</td>\n",
              "      <td>0</td>\n",
              "    </tr>\n",
              "    <tr>\n",
              "      <th>28267</th>\n",
              "      <td>Supreme Court rules uniform design elements ca...</td>\n",
              "      <td>(Reuters) - The U.S. Supreme Court on Wednesda...</td>\n",
              "      <td>politicsNews</td>\n",
              "      <td>March 22, 2017</td>\n",
              "      <td>1</td>\n",
              "    </tr>\n",
              "    <tr>\n",
              "      <th>35243</th>\n",
              "      <td>Venezuela may ban main opposition parties from...</td>\n",
              "      <td>CARACAS (Reuters) - Venezuela s pro-government...</td>\n",
              "      <td>worldnews</td>\n",
              "      <td>December 21, 2017</td>\n",
              "      <td>1</td>\n",
              "    </tr>\n",
              "    <tr>\n",
              "      <th>35045</th>\n",
              "      <td>No man an island - China warns against strayin...</td>\n",
              "      <td>BEIJING (Reuters) - Members of China s ruling ...</td>\n",
              "      <td>worldnews</td>\n",
              "      <td>December 22, 2017</td>\n",
              "      <td>1</td>\n",
              "    </tr>\n",
              "    <tr>\n",
              "      <th>28311</th>\n",
              "      <td>Tillerson signaled U.S. policy of patience on ...</td>\n",
              "      <td>WASHINGTON (Reuters) - U.S. Secretary of State...</td>\n",
              "      <td>politicsNews</td>\n",
              "      <td>March 20, 2017</td>\n",
              "      <td>1</td>\n",
              "    </tr>\n",
              "    <tr>\n",
              "      <th>18749</th>\n",
              "      <td>TOWN’S PARADE CANCELED After Violent Antifa Ra...</td>\n",
              "      <td>The irony in this entire cancellation of a tra...</td>\n",
              "      <td>left-news</td>\n",
              "      <td>Apr 26, 2017</td>\n",
              "      <td>0</td>\n",
              "    </tr>\n",
              "    <tr>\n",
              "      <th>3921</th>\n",
              "      <td>Obama’s EPIC Smackdown Of GOP Senator For Usi...</td>\n",
              "      <td>Senator Pat Toomey is a staunch Republican cau...</td>\n",
              "      <td>News</td>\n",
              "      <td>November 5, 2016</td>\n",
              "      <td>0</td>\n",
              "    </tr>\n",
              "    <tr>\n",
              "      <th>31012</th>\n",
              "      <td>Betting sites see record wagering on U.S. pres...</td>\n",
              "      <td>NEW YORK (Reuters) - The raucous, passionate a...</td>\n",
              "      <td>politicsNews</td>\n",
              "      <td>November 7, 2016</td>\n",
              "      <td>1</td>\n",
              "    </tr>\n",
              "    <tr>\n",
              "      <th>12286</th>\n",
              "      <td>MARCO RUBIO Weighs In On Castro’s Death: “He d...</td>\n",
              "      <td></td>\n",
              "      <td>politics</td>\n",
              "      <td>Nov 27, 2016</td>\n",
              "      <td>0</td>\n",
              "    </tr>\n",
              "    <tr>\n",
              "      <th>11853</th>\n",
              "      <td>VIDEO: CROWD Chants “LOCK HER UP!” As Crooked ...</td>\n",
              "      <td>Boos and chants of  Lock her up!  were heard i...</td>\n",
              "      <td>politics</td>\n",
              "      <td>Jan 20, 2017</td>\n",
              "      <td>0</td>\n",
              "    </tr>\n",
              "  </tbody>\n",
              "</table>\n",
              "</div>\n",
              "    <div class=\"colab-df-buttons\">\n",
              "\n",
              "  <div class=\"colab-df-container\">\n",
              "    <button class=\"colab-df-convert\" onclick=\"convertToInteractive('df-0bf42d6f-6c32-4091-9cca-c064593916d0')\"\n",
              "            title=\"Convert this dataframe to an interactive table.\"\n",
              "            style=\"display:none;\">\n",
              "\n",
              "  <svg xmlns=\"http://www.w3.org/2000/svg\" height=\"24px\" viewBox=\"0 -960 960 960\">\n",
              "    <path d=\"M120-120v-720h720v720H120Zm60-500h600v-160H180v160Zm220 220h160v-160H400v160Zm0 220h160v-160H400v160ZM180-400h160v-160H180v160Zm440 0h160v-160H620v160ZM180-180h160v-160H180v160Zm440 0h160v-160H620v160Z\"/>\n",
              "  </svg>\n",
              "    </button>\n",
              "\n",
              "  <style>\n",
              "    .colab-df-container {\n",
              "      display:flex;\n",
              "      gap: 12px;\n",
              "    }\n",
              "\n",
              "    .colab-df-convert {\n",
              "      background-color: #E8F0FE;\n",
              "      border: none;\n",
              "      border-radius: 50%;\n",
              "      cursor: pointer;\n",
              "      display: none;\n",
              "      fill: #1967D2;\n",
              "      height: 32px;\n",
              "      padding: 0 0 0 0;\n",
              "      width: 32px;\n",
              "    }\n",
              "\n",
              "    .colab-df-convert:hover {\n",
              "      background-color: #E2EBFA;\n",
              "      box-shadow: 0px 1px 2px rgba(60, 64, 67, 0.3), 0px 1px 3px 1px rgba(60, 64, 67, 0.15);\n",
              "      fill: #174EA6;\n",
              "    }\n",
              "\n",
              "    .colab-df-buttons div {\n",
              "      margin-bottom: 4px;\n",
              "    }\n",
              "\n",
              "    [theme=dark] .colab-df-convert {\n",
              "      background-color: #3B4455;\n",
              "      fill: #D2E3FC;\n",
              "    }\n",
              "\n",
              "    [theme=dark] .colab-df-convert:hover {\n",
              "      background-color: #434B5C;\n",
              "      box-shadow: 0px 1px 3px 1px rgba(0, 0, 0, 0.15);\n",
              "      filter: drop-shadow(0px 1px 2px rgba(0, 0, 0, 0.3));\n",
              "      fill: #FFFFFF;\n",
              "    }\n",
              "  </style>\n",
              "\n",
              "    <script>\n",
              "      const buttonEl =\n",
              "        document.querySelector('#df-0bf42d6f-6c32-4091-9cca-c064593916d0 button.colab-df-convert');\n",
              "      buttonEl.style.display =\n",
              "        google.colab.kernel.accessAllowed ? 'block' : 'none';\n",
              "\n",
              "      async function convertToInteractive(key) {\n",
              "        const element = document.querySelector('#df-0bf42d6f-6c32-4091-9cca-c064593916d0');\n",
              "        const dataTable =\n",
              "          await google.colab.kernel.invokeFunction('convertToInteractive',\n",
              "                                                    [key], {});\n",
              "        if (!dataTable) return;\n",
              "\n",
              "        const docLinkHtml = 'Like what you see? Visit the ' +\n",
              "          '<a target=\"_blank\" href=https://colab.research.google.com/notebooks/data_table.ipynb>data table notebook</a>'\n",
              "          + ' to learn more about interactive tables.';\n",
              "        element.innerHTML = '';\n",
              "        dataTable['output_type'] = 'display_data';\n",
              "        await google.colab.output.renderOutput(dataTable, element);\n",
              "        const docLink = document.createElement('div');\n",
              "        docLink.innerHTML = docLinkHtml;\n",
              "        element.appendChild(docLink);\n",
              "      }\n",
              "    </script>\n",
              "  </div>\n",
              "\n",
              "\n",
              "<div id=\"df-64f22a4a-2be4-4f7d-b992-1aa33e4c1698\">\n",
              "  <button class=\"colab-df-quickchart\" onclick=\"quickchart('df-64f22a4a-2be4-4f7d-b992-1aa33e4c1698')\"\n",
              "            title=\"Suggest charts\"\n",
              "            style=\"display:none;\">\n",
              "\n",
              "<svg xmlns=\"http://www.w3.org/2000/svg\" height=\"24px\"viewBox=\"0 0 24 24\"\n",
              "     width=\"24px\">\n",
              "    <g>\n",
              "        <path d=\"M19 3H5c-1.1 0-2 .9-2 2v14c0 1.1.9 2 2 2h14c1.1 0 2-.9 2-2V5c0-1.1-.9-2-2-2zM9 17H7v-7h2v7zm4 0h-2V7h2v10zm4 0h-2v-4h2v4z\"/>\n",
              "    </g>\n",
              "</svg>\n",
              "  </button>\n",
              "\n",
              "<style>\n",
              "  .colab-df-quickchart {\n",
              "      --bg-color: #E8F0FE;\n",
              "      --fill-color: #1967D2;\n",
              "      --hover-bg-color: #E2EBFA;\n",
              "      --hover-fill-color: #174EA6;\n",
              "      --disabled-fill-color: #AAA;\n",
              "      --disabled-bg-color: #DDD;\n",
              "  }\n",
              "\n",
              "  [theme=dark] .colab-df-quickchart {\n",
              "      --bg-color: #3B4455;\n",
              "      --fill-color: #D2E3FC;\n",
              "      --hover-bg-color: #434B5C;\n",
              "      --hover-fill-color: #FFFFFF;\n",
              "      --disabled-bg-color: #3B4455;\n",
              "      --disabled-fill-color: #666;\n",
              "  }\n",
              "\n",
              "  .colab-df-quickchart {\n",
              "    background-color: var(--bg-color);\n",
              "    border: none;\n",
              "    border-radius: 50%;\n",
              "    cursor: pointer;\n",
              "    display: none;\n",
              "    fill: var(--fill-color);\n",
              "    height: 32px;\n",
              "    padding: 0;\n",
              "    width: 32px;\n",
              "  }\n",
              "\n",
              "  .colab-df-quickchart:hover {\n",
              "    background-color: var(--hover-bg-color);\n",
              "    box-shadow: 0 1px 2px rgba(60, 64, 67, 0.3), 0 1px 3px 1px rgba(60, 64, 67, 0.15);\n",
              "    fill: var(--button-hover-fill-color);\n",
              "  }\n",
              "\n",
              "  .colab-df-quickchart-complete:disabled,\n",
              "  .colab-df-quickchart-complete:disabled:hover {\n",
              "    background-color: var(--disabled-bg-color);\n",
              "    fill: var(--disabled-fill-color);\n",
              "    box-shadow: none;\n",
              "  }\n",
              "\n",
              "  .colab-df-spinner {\n",
              "    border: 2px solid var(--fill-color);\n",
              "    border-color: transparent;\n",
              "    border-bottom-color: var(--fill-color);\n",
              "    animation:\n",
              "      spin 1s steps(1) infinite;\n",
              "  }\n",
              "\n",
              "  @keyframes spin {\n",
              "    0% {\n",
              "      border-color: transparent;\n",
              "      border-bottom-color: var(--fill-color);\n",
              "      border-left-color: var(--fill-color);\n",
              "    }\n",
              "    20% {\n",
              "      border-color: transparent;\n",
              "      border-left-color: var(--fill-color);\n",
              "      border-top-color: var(--fill-color);\n",
              "    }\n",
              "    30% {\n",
              "      border-color: transparent;\n",
              "      border-left-color: var(--fill-color);\n",
              "      border-top-color: var(--fill-color);\n",
              "      border-right-color: var(--fill-color);\n",
              "    }\n",
              "    40% {\n",
              "      border-color: transparent;\n",
              "      border-right-color: var(--fill-color);\n",
              "      border-top-color: var(--fill-color);\n",
              "    }\n",
              "    60% {\n",
              "      border-color: transparent;\n",
              "      border-right-color: var(--fill-color);\n",
              "    }\n",
              "    80% {\n",
              "      border-color: transparent;\n",
              "      border-right-color: var(--fill-color);\n",
              "      border-bottom-color: var(--fill-color);\n",
              "    }\n",
              "    90% {\n",
              "      border-color: transparent;\n",
              "      border-bottom-color: var(--fill-color);\n",
              "    }\n",
              "  }\n",
              "</style>\n",
              "\n",
              "  <script>\n",
              "    async function quickchart(key) {\n",
              "      const quickchartButtonEl =\n",
              "        document.querySelector('#' + key + ' button');\n",
              "      quickchartButtonEl.disabled = true;  // To prevent multiple clicks.\n",
              "      quickchartButtonEl.classList.add('colab-df-spinner');\n",
              "      try {\n",
              "        const charts = await google.colab.kernel.invokeFunction(\n",
              "            'suggestCharts', [key], {});\n",
              "      } catch (error) {\n",
              "        console.error('Error during call to suggestCharts:', error);\n",
              "      }\n",
              "      quickchartButtonEl.classList.remove('colab-df-spinner');\n",
              "      quickchartButtonEl.classList.add('colab-df-quickchart-complete');\n",
              "    }\n",
              "    (() => {\n",
              "      let quickchartButtonEl =\n",
              "        document.querySelector('#df-64f22a4a-2be4-4f7d-b992-1aa33e4c1698 button');\n",
              "      quickchartButtonEl.style.display =\n",
              "        google.colab.kernel.accessAllowed ? 'block' : 'none';\n",
              "    })();\n",
              "  </script>\n",
              "</div>\n",
              "\n",
              "    </div>\n",
              "  </div>\n"
            ],
            "application/vnd.google.colaboratory.intrinsic+json": {
              "type": "dataframe",
              "summary": "{\n  \"name\": \"data\",\n  \"rows\": 10,\n  \"fields\": [\n    {\n      \"column\": \"title\",\n      \"properties\": {\n        \"dtype\": \"string\",\n        \"num_unique_values\": 10,\n        \"samples\": [\n          \"MARCO RUBIO Weighs In On Castro\\u2019s Death: \\u201cHe did some horrifying things\\u201d\\u2026\\u201dDon\\u2019t make him into a folk hero\\u201d [Video]\",\n          \"Supreme Court rules uniform design elements can be copyrighted\",\n          \"TOWN\\u2019S PARADE CANCELED After Violent Antifa Radicals Threatened To Destroy And Attack\"\n        ],\n        \"semantic_type\": \"\",\n        \"description\": \"\"\n      }\n    },\n    {\n      \"column\": \"text\",\n      \"properties\": {\n        \"dtype\": \"string\",\n        \"num_unique_values\": 10,\n        \"samples\": [\n          \" \",\n          \"(Reuters) - The U.S. Supreme Court on Wednesday ruled that basic elements in cheerleader uniform designs merit copyright protection, handing a victory to the top American maker of the garments in a decision with serious implications for the fashion industry. \\u00a0\\u00a0\\u00a0 The justices ruled 6-2 to uphold a lower court\\u2019s 2015 ruling allowing a lawsuit by Varsity Brands Inc [LEOGRV.UL], the dominant cheerleader uniform maker, accusing smaller rival Star Athletica LLC of infringing on five of its designs to proceed. In the majority opinion written by Justice Clarence Thomas and joined by Chief Justice John Roberts and Justices Samuel Alito, Elena Kagan, and Sonia Sotomayor, the high court put forth a two-part test for whether design elements warranted copyright protection. The justices said the \\u201cpictorial, graphic, or sculptural features\\u201d must be \\u201cseparable\\u201d from the design of a utilitarian object. The features would also have to merit copyright protection as a stand-alone work. Justice Ruth Bader Ginsburg concurred in the majority decisions but said she would not have applied a \\u201cseparability\\u201d test. Justices Stephen Breyer and Anthony Kennedy dissented, saying the elements could not be separated from the design. The closely watched case centered on whether the stripes, zigzags and chevrons that typify cheerleader uniforms can be copyrighted, as Varsity contends, or are so fundamental to the purpose of the garment that they should not deserve such legal protection. Without such adornments, a cheerleader uniform might look like the commonplace \\u201clittle black dress,\\u201d Star Athletica argued. \",\n          \"The irony in this entire cancellation of a tradition in Portland, Oregon is that now the Antifa (Anti Fascists) have pissed off the more moderate lefties. One group was going to speak at the parade event against white supremacy but now they won t get the chance. It s turning out that the Antifa group is more violent than any other radical group we ve known. They re even selling knives on their website!  A threatening email has derailed one of the Portland Rose Festival s signature events, and spurred new debate about the ongoing political protests in Portland.Organizers of the 82nd Avenue of Roses Parade announced Tuesday that the event will be canceled, for fear that the east Portland parade could be disrupted by  the type of riots which happen in downtown Portland.  (see video below)Originally scheduled this Saturday, April 29, the parade is meant to highlight the local community and businesses along Southeast 82nd Avenue, aiming to turn around the negative perception many people have of the area. It started in 2007 and has since become a popular event on the Rose Festival calendar.This year s parade was once again set to feature the Multnomah County Republican Party as one of the many groups slated to march, but that inclusion drew ire from some of the city s left-leaning protest groups.At least two protests were planned for the day of the parade, one by Oregon Students Empowered and another by Direct Action Alliance. Both events were mentioned in an email sent to parade organizers on Saturday, threatening to shut down the event with hundreds of protesters in the street. You have seen how much power we have downtown and that the police cannot stop us from shutting down roads so please consider your decision wisely,  the anonymous email said, telling organizers they could cancel the Republican group s registration or else face action from protesters.  This is non-negotiable. The parade is organized by the 82nd Avenue of Roses Business Association, a part of the neighborhood business organization Venture Portland. Representatives from neither organization returned calls for comment.The cancelation isn t necessarily a win for the protest groups. Jacob Bureros, an organizer with the Direct Action Alliance, said the organization   which intended to speak out against fascism and white supremacy during the parade   is sad to hear the news. We are disappointed that the parade was canceled,  he said.  We re members of this community and this is an awesome parade. James Buchal, chairman of the Multnomah County Republican Party, said his group was ready to march despite the protesters. He said the party had no hand in cancelling the event, and was taken by surprise when they heard the news. After seeing the email last weekend, they had no plans to back out. We weren t willing to just walk away quietly,  he said.  The next thing we knew the whole thing was canceled. The problem is the police said they couldn t offer additional security for the parade so the organizers backed out. We know the Portland Police Department can move to stop this type of activity.Check out this recent shut down of protesters blocking a bus in downtown Portland:Portland protesters were doing the usual idiotic tactic of blocking the street and not letting traffic proceed What they didn t realize is that the police aren t taking this anymore Watch the takedown of these punks Awesome!Check out the lady with the thumbs up! Haha! Read more: Oregon Live\"\n        ],\n        \"semantic_type\": \"\",\n        \"description\": \"\"\n      }\n    },\n    {\n      \"column\": \"subject\",\n      \"properties\": {\n        \"dtype\": \"string\",\n        \"num_unique_values\": 6,\n        \"samples\": [\n          \"Government News\",\n          \"politicsNews\",\n          \"politics\"\n        ],\n        \"semantic_type\": \"\",\n        \"description\": \"\"\n      }\n    },\n    {\n      \"column\": \"date\",\n      \"properties\": {\n        \"dtype\": \"string\",\n        \"num_unique_values\": 10,\n        \"samples\": [\n          \"Nov 27, 2016\",\n          \"March 22, 2017 \",\n          \"Apr 26, 2017\"\n        ],\n        \"semantic_type\": \"\",\n        \"description\": \"\"\n      }\n    },\n    {\n      \"column\": \"label\",\n      \"properties\": {\n        \"dtype\": \"number\",\n        \"std\": 0,\n        \"min\": 0,\n        \"max\": 1,\n        \"num_unique_values\": 2,\n        \"samples\": [\n          1,\n          0\n        ],\n        \"semantic_type\": \"\",\n        \"description\": \"\"\n      }\n    }\n  ]\n}"
            }
          },
          "metadata": {},
          "execution_count": 12
        }
      ],
      "execution_count": null
    },
    {
      "cell_type": "code",
      "source": [
        "data.shape"
      ],
      "metadata": {
        "id": "yljgCG6ZpFdO",
        "outputId": "04e62dbd-07b3-4eeb-fd8c-671a090c46ad",
        "trusted": true,
        "execution": {
          "iopub.status.busy": "2025-04-10T07:05:27.317898Z",
          "iopub.execute_input": "2025-04-10T07:05:27.318153Z",
          "iopub.status.idle": "2025-04-10T07:05:27.330595Z",
          "shell.execute_reply.started": "2025-04-10T07:05:27.318133Z",
          "shell.execute_reply": "2025-04-10T07:05:27.330011Z"
        },
        "colab": {
          "base_uri": "https://localhost:8080/"
        }
      },
      "outputs": [
        {
          "output_type": "execute_result",
          "data": {
            "text/plain": [
              "(44898, 5)"
            ]
          },
          "metadata": {},
          "execution_count": 13
        }
      ],
      "execution_count": null
    },
    {
      "cell_type": "code",
      "source": [
        "data.info()"
      ],
      "metadata": {
        "id": "LB_ZQGUeoQwi",
        "outputId": "7bbdb6ac-72a2-42cd-f2bf-27eb2effa843",
        "trusted": true,
        "execution": {
          "iopub.status.busy": "2025-04-10T07:05:27.331493Z",
          "iopub.execute_input": "2025-04-10T07:05:27.33179Z",
          "iopub.status.idle": "2025-04-10T07:05:27.371182Z",
          "shell.execute_reply.started": "2025-04-10T07:05:27.331762Z",
          "shell.execute_reply": "2025-04-10T07:05:27.370286Z"
        },
        "colab": {
          "base_uri": "https://localhost:8080/"
        }
      },
      "outputs": [
        {
          "output_type": "stream",
          "name": "stdout",
          "text": [
            "<class 'pandas.core.frame.DataFrame'>\n",
            "RangeIndex: 44898 entries, 0 to 44897\n",
            "Data columns (total 5 columns):\n",
            " #   Column   Non-Null Count  Dtype \n",
            "---  ------   --------------  ----- \n",
            " 0   title    44898 non-null  object\n",
            " 1   text     44898 non-null  object\n",
            " 2   subject  44898 non-null  object\n",
            " 3   date     44898 non-null  object\n",
            " 4   label    44898 non-null  int64 \n",
            "dtypes: int64(1), object(4)\n",
            "memory usage: 1.7+ MB\n"
          ]
        }
      ],
      "execution_count": null
    },
    {
      "cell_type": "markdown",
      "source": [
        "## Check Null Value"
      ],
      "metadata": {
        "id": "grZ5wszLOZ7M"
      }
    },
    {
      "cell_type": "code",
      "source": [
        "data.isnull().sum()\n"
      ],
      "metadata": {
        "id": "xjQRMwtBoRne",
        "outputId": "377000c9-c437-466b-efc4-95079f97847c",
        "trusted": true,
        "execution": {
          "iopub.status.busy": "2025-04-10T07:05:27.372086Z",
          "iopub.execute_input": "2025-04-10T07:05:27.37239Z",
          "iopub.status.idle": "2025-04-10T07:05:27.390586Z",
          "shell.execute_reply.started": "2025-04-10T07:05:27.372361Z",
          "shell.execute_reply": "2025-04-10T07:05:27.389753Z"
        },
        "colab": {
          "base_uri": "https://localhost:8080/",
          "height": 241
        }
      },
      "outputs": [
        {
          "output_type": "execute_result",
          "data": {
            "text/plain": [
              "title      0\n",
              "text       0\n",
              "subject    0\n",
              "date       0\n",
              "label      0\n",
              "dtype: int64"
            ],
            "text/html": [
              "<div>\n",
              "<style scoped>\n",
              "    .dataframe tbody tr th:only-of-type {\n",
              "        vertical-align: middle;\n",
              "    }\n",
              "\n",
              "    .dataframe tbody tr th {\n",
              "        vertical-align: top;\n",
              "    }\n",
              "\n",
              "    .dataframe thead th {\n",
              "        text-align: right;\n",
              "    }\n",
              "</style>\n",
              "<table border=\"1\" class=\"dataframe\">\n",
              "  <thead>\n",
              "    <tr style=\"text-align: right;\">\n",
              "      <th></th>\n",
              "      <th>0</th>\n",
              "    </tr>\n",
              "  </thead>\n",
              "  <tbody>\n",
              "    <tr>\n",
              "      <th>title</th>\n",
              "      <td>0</td>\n",
              "    </tr>\n",
              "    <tr>\n",
              "      <th>text</th>\n",
              "      <td>0</td>\n",
              "    </tr>\n",
              "    <tr>\n",
              "      <th>subject</th>\n",
              "      <td>0</td>\n",
              "    </tr>\n",
              "    <tr>\n",
              "      <th>date</th>\n",
              "      <td>0</td>\n",
              "    </tr>\n",
              "    <tr>\n",
              "      <th>label</th>\n",
              "      <td>0</td>\n",
              "    </tr>\n",
              "  </tbody>\n",
              "</table>\n",
              "</div><br><label><b>dtype:</b> int64</label>"
            ]
          },
          "metadata": {},
          "execution_count": 15
        }
      ],
      "execution_count": null
    },
    {
      "cell_type": "markdown",
      "source": [
        "## Check Duplicated values"
      ],
      "metadata": {
        "id": "Bs0KtajhRV3D"
      }
    },
    {
      "cell_type": "code",
      "source": [
        "data.duplicated().sum()"
      ],
      "metadata": {
        "id": "tVgiPKbyRVga",
        "outputId": "58a27d89-fddd-47f7-bdfa-2072ad2bab75",
        "trusted": true,
        "execution": {
          "iopub.status.busy": "2025-04-10T07:05:27.391445Z",
          "iopub.execute_input": "2025-04-10T07:05:27.391702Z",
          "iopub.status.idle": "2025-04-10T07:05:27.696413Z",
          "shell.execute_reply.started": "2025-04-10T07:05:27.391672Z",
          "shell.execute_reply": "2025-04-10T07:05:27.695574Z"
        },
        "colab": {
          "base_uri": "https://localhost:8080/"
        }
      },
      "outputs": [
        {
          "output_type": "execute_result",
          "data": {
            "text/plain": [
              "np.int64(209)"
            ]
          },
          "metadata": {},
          "execution_count": 16
        }
      ],
      "execution_count": null
    },
    {
      "cell_type": "code",
      "source": [
        "data.drop_duplicates(inplace=True)"
      ],
      "metadata": {
        "id": "g6TRbSN2R59-",
        "trusted": true,
        "execution": {
          "iopub.status.busy": "2025-04-10T07:05:27.697341Z",
          "iopub.execute_input": "2025-04-10T07:05:27.697647Z",
          "iopub.status.idle": "2025-04-10T07:05:27.936306Z",
          "shell.execute_reply.started": "2025-04-10T07:05:27.697618Z",
          "shell.execute_reply": "2025-04-10T07:05:27.935646Z"
        }
      },
      "outputs": [],
      "execution_count": null
    },
    {
      "cell_type": "markdown",
      "source": [
        "## Convert Date coloumn from object to datetime format"
      ],
      "metadata": {
        "id": "AzbopvxnOhJD"
      }
    },
    {
      "cell_type": "code",
      "source": [
        "data['date'] = pd.to_datetime(data['date'], errors='coerce',format='mixed')"
      ],
      "metadata": {
        "id": "3aGwPEdQoRj9",
        "trusted": true,
        "execution": {
          "iopub.status.busy": "2025-04-10T07:05:27.937084Z",
          "iopub.execute_input": "2025-04-10T07:05:27.937331Z",
          "iopub.status.idle": "2025-04-10T07:05:28.110398Z",
          "shell.execute_reply.started": "2025-04-10T07:05:27.937309Z",
          "shell.execute_reply": "2025-04-10T07:05:28.109514Z"
        }
      },
      "outputs": [],
      "execution_count": null
    },
    {
      "cell_type": "code",
      "source": [],
      "metadata": {
        "id": "ton2FbB2QKes",
        "trusted": true
      },
      "outputs": [],
      "execution_count": null
    },
    {
      "cell_type": "code",
      "source": [
        "data.date"
      ],
      "metadata": {
        "id": "f5iBaS9QoRXR",
        "outputId": "08f36e7c-c1ff-410b-e515-09aacfeb5621",
        "trusted": true,
        "execution": {
          "iopub.status.busy": "2025-04-10T07:05:28.11116Z",
          "iopub.execute_input": "2025-04-10T07:05:28.111386Z",
          "iopub.status.idle": "2025-04-10T07:05:28.11754Z",
          "shell.execute_reply.started": "2025-04-10T07:05:28.111366Z",
          "shell.execute_reply": "2025-04-10T07:05:28.116694Z"
        },
        "colab": {
          "base_uri": "https://localhost:8080/",
          "height": 458
        }
      },
      "outputs": [
        {
          "output_type": "execute_result",
          "data": {
            "text/plain": [
              "0       2017-12-31\n",
              "1       2017-12-31\n",
              "2       2017-12-30\n",
              "3       2017-12-29\n",
              "4       2017-12-25\n",
              "           ...    \n",
              "44893   2017-08-22\n",
              "44894   2017-08-22\n",
              "44895   2017-08-22\n",
              "44896   2017-08-22\n",
              "44897   2017-08-22\n",
              "Name: date, Length: 44689, dtype: datetime64[ns]"
            ],
            "text/html": [
              "<div>\n",
              "<style scoped>\n",
              "    .dataframe tbody tr th:only-of-type {\n",
              "        vertical-align: middle;\n",
              "    }\n",
              "\n",
              "    .dataframe tbody tr th {\n",
              "        vertical-align: top;\n",
              "    }\n",
              "\n",
              "    .dataframe thead th {\n",
              "        text-align: right;\n",
              "    }\n",
              "</style>\n",
              "<table border=\"1\" class=\"dataframe\">\n",
              "  <thead>\n",
              "    <tr style=\"text-align: right;\">\n",
              "      <th></th>\n",
              "      <th>date</th>\n",
              "    </tr>\n",
              "  </thead>\n",
              "  <tbody>\n",
              "    <tr>\n",
              "      <th>0</th>\n",
              "      <td>2017-12-31</td>\n",
              "    </tr>\n",
              "    <tr>\n",
              "      <th>1</th>\n",
              "      <td>2017-12-31</td>\n",
              "    </tr>\n",
              "    <tr>\n",
              "      <th>2</th>\n",
              "      <td>2017-12-30</td>\n",
              "    </tr>\n",
              "    <tr>\n",
              "      <th>3</th>\n",
              "      <td>2017-12-29</td>\n",
              "    </tr>\n",
              "    <tr>\n",
              "      <th>4</th>\n",
              "      <td>2017-12-25</td>\n",
              "    </tr>\n",
              "    <tr>\n",
              "      <th>...</th>\n",
              "      <td>...</td>\n",
              "    </tr>\n",
              "    <tr>\n",
              "      <th>44893</th>\n",
              "      <td>2017-08-22</td>\n",
              "    </tr>\n",
              "    <tr>\n",
              "      <th>44894</th>\n",
              "      <td>2017-08-22</td>\n",
              "    </tr>\n",
              "    <tr>\n",
              "      <th>44895</th>\n",
              "      <td>2017-08-22</td>\n",
              "    </tr>\n",
              "    <tr>\n",
              "      <th>44896</th>\n",
              "      <td>2017-08-22</td>\n",
              "    </tr>\n",
              "    <tr>\n",
              "      <th>44897</th>\n",
              "      <td>2017-08-22</td>\n",
              "    </tr>\n",
              "  </tbody>\n",
              "</table>\n",
              "<p>44689 rows × 1 columns</p>\n",
              "</div><br><label><b>dtype:</b> datetime64[ns]</label>"
            ]
          },
          "metadata": {},
          "execution_count": 19
        }
      ],
      "execution_count": null
    },
    {
      "cell_type": "code",
      "source": [
        "data.isnull().sum()"
      ],
      "metadata": {
        "id": "oUy0s2__oRTw",
        "outputId": "45977029-7f3e-4130-c499-50e3c5e4f946",
        "trusted": true,
        "execution": {
          "iopub.status.busy": "2025-04-10T07:05:28.118332Z",
          "iopub.execute_input": "2025-04-10T07:05:28.118519Z",
          "iopub.status.idle": "2025-04-10T07:05:28.143378Z",
          "shell.execute_reply.started": "2025-04-10T07:05:28.118502Z",
          "shell.execute_reply": "2025-04-10T07:05:28.142641Z"
        },
        "colab": {
          "base_uri": "https://localhost:8080/",
          "height": 241
        }
      },
      "outputs": [
        {
          "output_type": "execute_result",
          "data": {
            "text/plain": [
              "title       0\n",
              "text        0\n",
              "subject     0\n",
              "date       10\n",
              "label       0\n",
              "dtype: int64"
            ],
            "text/html": [
              "<div>\n",
              "<style scoped>\n",
              "    .dataframe tbody tr th:only-of-type {\n",
              "        vertical-align: middle;\n",
              "    }\n",
              "\n",
              "    .dataframe tbody tr th {\n",
              "        vertical-align: top;\n",
              "    }\n",
              "\n",
              "    .dataframe thead th {\n",
              "        text-align: right;\n",
              "    }\n",
              "</style>\n",
              "<table border=\"1\" class=\"dataframe\">\n",
              "  <thead>\n",
              "    <tr style=\"text-align: right;\">\n",
              "      <th></th>\n",
              "      <th>0</th>\n",
              "    </tr>\n",
              "  </thead>\n",
              "  <tbody>\n",
              "    <tr>\n",
              "      <th>title</th>\n",
              "      <td>0</td>\n",
              "    </tr>\n",
              "    <tr>\n",
              "      <th>text</th>\n",
              "      <td>0</td>\n",
              "    </tr>\n",
              "    <tr>\n",
              "      <th>subject</th>\n",
              "      <td>0</td>\n",
              "    </tr>\n",
              "    <tr>\n",
              "      <th>date</th>\n",
              "      <td>10</td>\n",
              "    </tr>\n",
              "    <tr>\n",
              "      <th>label</th>\n",
              "      <td>0</td>\n",
              "    </tr>\n",
              "  </tbody>\n",
              "</table>\n",
              "</div><br><label><b>dtype:</b> int64</label>"
            ]
          },
          "metadata": {},
          "execution_count": 20
        }
      ],
      "execution_count": null
    },
    {
      "cell_type": "code",
      "source": [
        "data.dropna(subset=['date'], inplace=True)"
      ],
      "metadata": {
        "id": "QWjOQISCoRQd",
        "trusted": true,
        "execution": {
          "iopub.status.busy": "2025-04-10T07:05:28.144253Z",
          "iopub.execute_input": "2025-04-10T07:05:28.144529Z",
          "iopub.status.idle": "2025-04-10T07:05:28.16008Z",
          "shell.execute_reply.started": "2025-04-10T07:05:28.144499Z",
          "shell.execute_reply": "2025-04-10T07:05:28.159297Z"
        }
      },
      "outputs": [],
      "execution_count": null
    },
    {
      "cell_type": "code",
      "source": [
        "data.isnull().sum()"
      ],
      "metadata": {
        "id": "Uhy4RydqRLW0",
        "outputId": "3fd686cf-99bf-4aba-d05f-a1d9aecdd621",
        "trusted": true,
        "execution": {
          "iopub.status.busy": "2025-04-10T07:05:28.160939Z",
          "iopub.execute_input": "2025-04-10T07:05:28.16133Z",
          "iopub.status.idle": "2025-04-10T07:05:28.175962Z",
          "shell.execute_reply.started": "2025-04-10T07:05:28.161301Z",
          "shell.execute_reply": "2025-04-10T07:05:28.175285Z"
        },
        "colab": {
          "base_uri": "https://localhost:8080/",
          "height": 241
        }
      },
      "outputs": [
        {
          "output_type": "execute_result",
          "data": {
            "text/plain": [
              "title      0\n",
              "text       0\n",
              "subject    0\n",
              "date       0\n",
              "label      0\n",
              "dtype: int64"
            ],
            "text/html": [
              "<div>\n",
              "<style scoped>\n",
              "    .dataframe tbody tr th:only-of-type {\n",
              "        vertical-align: middle;\n",
              "    }\n",
              "\n",
              "    .dataframe tbody tr th {\n",
              "        vertical-align: top;\n",
              "    }\n",
              "\n",
              "    .dataframe thead th {\n",
              "        text-align: right;\n",
              "    }\n",
              "</style>\n",
              "<table border=\"1\" class=\"dataframe\">\n",
              "  <thead>\n",
              "    <tr style=\"text-align: right;\">\n",
              "      <th></th>\n",
              "      <th>0</th>\n",
              "    </tr>\n",
              "  </thead>\n",
              "  <tbody>\n",
              "    <tr>\n",
              "      <th>title</th>\n",
              "      <td>0</td>\n",
              "    </tr>\n",
              "    <tr>\n",
              "      <th>text</th>\n",
              "      <td>0</td>\n",
              "    </tr>\n",
              "    <tr>\n",
              "      <th>subject</th>\n",
              "      <td>0</td>\n",
              "    </tr>\n",
              "    <tr>\n",
              "      <th>date</th>\n",
              "      <td>0</td>\n",
              "    </tr>\n",
              "    <tr>\n",
              "      <th>label</th>\n",
              "      <td>0</td>\n",
              "    </tr>\n",
              "  </tbody>\n",
              "</table>\n",
              "</div><br><label><b>dtype:</b> int64</label>"
            ]
          },
          "metadata": {},
          "execution_count": 22
        }
      ],
      "execution_count": null
    },
    {
      "cell_type": "markdown",
      "source": [],
      "metadata": {
        "id": "6SgpwjcTRN_B"
      }
    },
    {
      "cell_type": "code",
      "source": [
        "data.nunique()"
      ],
      "metadata": {
        "id": "sFhOEiKZRNUD",
        "outputId": "4574d850-e08e-4ff3-a549-fccc9ca7c263",
        "trusted": true,
        "execution": {
          "iopub.status.busy": "2025-04-10T07:05:28.176927Z",
          "iopub.execute_input": "2025-04-10T07:05:28.177234Z",
          "iopub.status.idle": "2025-04-10T07:05:28.420448Z",
          "shell.execute_reply.started": "2025-04-10T07:05:28.177205Z",
          "shell.execute_reply": "2025-04-10T07:05:28.41976Z"
        },
        "colab": {
          "base_uri": "https://localhost:8080/",
          "height": 241
        }
      },
      "outputs": [
        {
          "output_type": "execute_result",
          "data": {
            "text/plain": [
              "title      38723\n",
              "text       38640\n",
              "subject        8\n",
              "date        1010\n",
              "label          2\n",
              "dtype: int64"
            ],
            "text/html": [
              "<div>\n",
              "<style scoped>\n",
              "    .dataframe tbody tr th:only-of-type {\n",
              "        vertical-align: middle;\n",
              "    }\n",
              "\n",
              "    .dataframe tbody tr th {\n",
              "        vertical-align: top;\n",
              "    }\n",
              "\n",
              "    .dataframe thead th {\n",
              "        text-align: right;\n",
              "    }\n",
              "</style>\n",
              "<table border=\"1\" class=\"dataframe\">\n",
              "  <thead>\n",
              "    <tr style=\"text-align: right;\">\n",
              "      <th></th>\n",
              "      <th>0</th>\n",
              "    </tr>\n",
              "  </thead>\n",
              "  <tbody>\n",
              "    <tr>\n",
              "      <th>title</th>\n",
              "      <td>38723</td>\n",
              "    </tr>\n",
              "    <tr>\n",
              "      <th>text</th>\n",
              "      <td>38640</td>\n",
              "    </tr>\n",
              "    <tr>\n",
              "      <th>subject</th>\n",
              "      <td>8</td>\n",
              "    </tr>\n",
              "    <tr>\n",
              "      <th>date</th>\n",
              "      <td>1010</td>\n",
              "    </tr>\n",
              "    <tr>\n",
              "      <th>label</th>\n",
              "      <td>2</td>\n",
              "    </tr>\n",
              "  </tbody>\n",
              "</table>\n",
              "</div><br><label><b>dtype:</b> int64</label>"
            ]
          },
          "metadata": {},
          "execution_count": 23
        }
      ],
      "execution_count": null
    },
    {
      "cell_type": "code",
      "source": [
        "sns.countplot(x='label', data=data, color='c')\n",
        "plt.title(\"Distribution of Fake vs Real News\")\n",
        "plt.xlabel(\"News Type\")\n",
        "plt.ylabel(\"Number of Articles\")\n",
        "plt.xticks([0, 1], ['Fake', 'Real'])\n",
        "plt.show()"
      ],
      "metadata": {
        "id": "pCdeiVuGTNPy",
        "outputId": "e0b2d0ab-bbf2-4b25-9587-cb91a4826b8c",
        "trusted": true,
        "execution": {
          "iopub.status.busy": "2025-04-10T07:05:28.425222Z",
          "iopub.execute_input": "2025-04-10T07:05:28.425471Z",
          "iopub.status.idle": "2025-04-10T07:05:28.619436Z",
          "shell.execute_reply.started": "2025-04-10T07:05:28.425448Z",
          "shell.execute_reply": "2025-04-10T07:05:28.618577Z"
        },
        "colab": {
          "base_uri": "https://localhost:8080/",
          "height": 472
        }
      },
      "outputs": [
        {
          "output_type": "display_data",
          "data": {
            "text/plain": [
              "<Figure size 640x480 with 1 Axes>"
            ],
            "image/png": "[encoded data removed]"
          },
          "metadata": {}
        }
      ],
      "execution_count": null
    },
    {
      "cell_type": "code",
      "source": [
        "sns.countplot(y='subject', data=data, color='c')\n",
        "plt.title(\"Distribution of News Subjects\")\n",
        "plt.xlabel(\"Number of Articles\")\n",
        "plt.ylabel(\"Subject\")\n",
        "\n",
        "plt.show()"
      ],
      "metadata": {
        "id": "OOU2EpZ1TNHn",
        "outputId": "253955c1-3358-4606-9728-005dd12a5110",
        "trusted": true,
        "execution": {
          "iopub.status.busy": "2025-04-10T07:05:28.620734Z",
          "iopub.execute_input": "2025-04-10T07:05:28.620955Z",
          "iopub.status.idle": "2025-04-10T07:05:28.800092Z",
          "shell.execute_reply.started": "2025-04-10T07:05:28.620937Z",
          "shell.execute_reply": "2025-04-10T07:05:28.799231Z"
        },
        "colab": {
          "base_uri": "https://localhost:8080/",
          "height": 442
        }
      },
      "outputs": [
        {
          "output_type": "display_data",
          "data": {
            "text/plain": [
              "<Figure size 640x480 with 1 Axes>"
            ],
            "image/png": "[encoded data removed]"
          },
          "metadata": {}
        }
      ],
      "execution_count": null
    },
    {
      "cell_type": "code",
      "source": [
        "sns.countplot(y='subject', hue='label', data=data, palette='Set2')\n",
        "plt.title(\"Distribution of News Subjects by Type\")\n",
        "plt.xlabel(\"News Type\")\n",
        "plt.ylabel(\"Number of Articles\")"
      ],
      "metadata": {
        "id": "nby5VF1UTM4y",
        "outputId": "f80a2b94-940b-422a-facb-2830e64b943f",
        "trusted": true,
        "execution": {
          "iopub.status.busy": "2025-04-10T07:05:28.801127Z",
          "iopub.execute_input": "2025-04-10T07:05:28.801392Z",
          "iopub.status.idle": "2025-04-10T07:05:29.146767Z",
          "shell.execute_reply.started": "2025-04-10T07:05:28.801369Z",
          "shell.execute_reply": "2025-04-10T07:05:29.14588Z"
        },
        "colab": {
          "base_uri": "https://localhost:8080/",
          "height": 460
        }
      },
      "outputs": [
        {
          "output_type": "execute_result",
          "data": {
            "text/plain": [
              "Text(0, 0.5, 'Number of Articles')"
            ]
          },
          "metadata": {},
          "execution_count": 26
        },
        {
          "output_type": "display_data",
          "data": {
            "text/plain": [
              "<Figure size 640x480 with 1 Axes>"
            ],
            "image/png": "[encoded data removed]"
          },
          "metadata": {}
        }
      ],
      "execution_count": null
    },
    {
      "cell_type": "code",
      "source": [
        "data['text_length'] = data['text'].str.len()"
      ],
      "metadata": {
        "id": "Exug4GOyeu3n",
        "trusted": true,
        "execution": {
          "iopub.status.busy": "2025-04-10T07:05:29.147819Z",
          "iopub.execute_input": "2025-04-10T07:05:29.148139Z",
          "iopub.status.idle": "2025-04-10T07:05:29.173547Z",
          "shell.execute_reply.started": "2025-04-10T07:05:29.148108Z",
          "shell.execute_reply": "2025-04-10T07:05:29.172635Z"
        }
      },
      "outputs": [],
      "execution_count": null
    },
    {
      "cell_type": "code",
      "source": [
        "data['text_length'].head().reset_index()"
      ],
      "metadata": {
        "id": "IoVAIRXUeu0N",
        "outputId": "1c5f8cfd-f81f-4f9c-9e85-ae97dba904eb",
        "trusted": true,
        "execution": {
          "iopub.status.busy": "2025-04-10T07:05:29.17446Z",
          "iopub.execute_input": "2025-04-10T07:05:29.174751Z",
          "iopub.status.idle": "2025-04-10T07:05:29.190523Z",
          "shell.execute_reply.started": "2025-04-10T07:05:29.174728Z",
          "shell.execute_reply": "2025-04-10T07:05:29.189752Z"
        },
        "colab": {
          "base_uri": "https://localhost:8080/",
          "height": 206
        }
      },
      "outputs": [
        {
          "output_type": "execute_result",
          "data": {
            "text/plain": [
              "   index  text_length\n",
              "0      0         2893\n",
              "1      1         1898\n",
              "2      2         3597\n",
              "3      3         2774\n",
              "4      4         2346"
            ],
            "text/html": [
              "\n",
              "  <div id=\"df-edd3aaf5-2e7a-4eab-80ae-ba3a54a33cf8\" class=\"colab-df-container\">\n",
              "    <div>\n",
              "<style scoped>\n",
              "    .dataframe tbody tr th:only-of-type {\n",
              "        vertical-align: middle;\n",
              "    }\n",
              "\n",
              "    .dataframe tbody tr th {\n",
              "        vertical-align: top;\n",
              "    }\n",
              "\n",
              "    .dataframe thead th {\n",
              "        text-align: right;\n",
              "    }\n",
              "</style>\n",
              "<table border=\"1\" class=\"dataframe\">\n",
              "  <thead>\n",
              "    <tr style=\"text-align: right;\">\n",
              "      <th></th>\n",
              "      <th>index</th>\n",
              "      <th>text_length</th>\n",
              "    </tr>\n",
              "  </thead>\n",
              "  <tbody>\n",
              "    <tr>\n",
              "      <th>0</th>\n",
              "      <td>0</td>\n",
              "      <td>2893</td>\n",
              "    </tr>\n",
              "    <tr>\n",
              "      <th>1</th>\n",
              "      <td>1</td>\n",
              "      <td>1898</td>\n",
              "    </tr>\n",
              "    <tr>\n",
              "      <th>2</th>\n",
              "      <td>2</td>\n",
              "      <td>3597</td>\n",
              "    </tr>\n",
              "    <tr>\n",
              "      <th>3</th>\n",
              "      <td>3</td>\n",
              "      <td>2774</td>\n",
              "    </tr>\n",
              "    <tr>\n",
              "      <th>4</th>\n",
              "      <td>4</td>\n",
              "      <td>2346</td>\n",
              "    </tr>\n",
              "  </tbody>\n",
              "</table>\n",
              "</div>\n",
              "    <div class=\"colab-df-buttons\">\n",
              "\n",
              "  <div class=\"colab-df-container\">\n",
              "    <button class=\"colab-df-convert\" onclick=\"convertToInteractive('df-edd3aaf5-2e7a-4eab-80ae-ba3a54a33cf8')\"\n",
              "            title=\"Convert this dataframe to an interactive table.\"\n",
              "            style=\"display:none;\">\n",
              "\n",
              "  <svg xmlns=\"http://www.w3.org/2000/svg\" height=\"24px\" viewBox=\"0 -960 960 960\">\n",
              "    <path d=\"M120-120v-720h720v720H120Zm60-500h600v-160H180v160Zm220 220h160v-160H400v160Zm0 220h160v-160H400v160ZM180-400h160v-160H180v160Zm440 0h160v-160H620v160ZM180-180h160v-160H180v160Zm440 0h160v-160H620v160Z\"/>\n",
              "  </svg>\n",
              "    </button>\n",
              "\n",
              "  <style>\n",
              "    .colab-df-container {\n",
              "      display:flex;\n",
              "      gap: 12px;\n",
              "    }\n",
              "\n",
              "    .colab-df-convert {\n",
              "      background-color: #E8F0FE;\n",
              "      border: none;\n",
              "      border-radius: 50%;\n",
              "      cursor: pointer;\n",
              "      display: none;\n",
              "      fill: #1967D2;\n",
              "      height: 32px;\n",
              "      padding: 0 0 0 0;\n",
              "      width: 32px;\n",
              "    }\n",
              "\n",
              "    .colab-df-convert:hover {\n",
              "      background-color: #E2EBFA;\n",
              "      box-shadow: 0px 1px 2px rgba(60, 64, 67, 0.3), 0px 1px 3px 1px rgba(60, 64, 67, 0.15);\n",
              "      fill: #174EA6;\n",
              "    }\n",
              "\n",
              "    .colab-df-buttons div {\n",
              "      margin-bottom: 4px;\n",
              "    }\n",
              "\n",
              "    [theme=dark] .colab-df-convert {\n",
              "      background-color: #3B4455;\n",
              "      fill: #D2E3FC;\n",
              "    }\n",
              "\n",
              "    [theme=dark] .colab-df-convert:hover {\n",
              "      background-color: #434B5C;\n",
              "      box-shadow: 0px 1px 3px 1px rgba(0, 0, 0, 0.15);\n",
              "      filter: drop-shadow(0px 1px 2px rgba(0, 0, 0, 0.3));\n",
              "      fill: #FFFFFF;\n",
              "    }\n",
              "  </style>\n",
              "\n",
              "    <script>\n",
              "      const buttonEl =\n",
              "        document.querySelector('#df-edd3aaf5-2e7a-4eab-80ae-ba3a54a33cf8 button.colab-df-convert');\n",
              "      buttonEl.style.display =\n",
              "        google.colab.kernel.accessAllowed ? 'block' : 'none';\n",
              "\n",
              "      async function convertToInteractive(key) {\n",
              "        const element = document.querySelector('#df-edd3aaf5-2e7a-4eab-80ae-ba3a54a33cf8');\n",
              "        const dataTable =\n",
              "          await google.colab.kernel.invokeFunction('convertToInteractive',\n",
              "                                                    [key], {});\n",
              "        if (!dataTable) return;\n",
              "\n",
              "        const docLinkHtml = 'Like what you see? Visit the ' +\n",
              "          '<a target=\"_blank\" href=https://colab.research.google.com/notebooks/data_table.ipynb>data table notebook</a>'\n",
              "          + ' to learn more about interactive tables.';\n",
              "        element.innerHTML = '';\n",
              "        dataTable['output_type'] = 'display_data';\n",
              "        await google.colab.output.renderOutput(dataTable, element);\n",
              "        const docLink = document.createElement('div');\n",
              "        docLink.innerHTML = docLinkHtml;\n",
              "        element.appendChild(docLink);\n",
              "      }\n",
              "    </script>\n",
              "  </div>\n",
              "\n",
              "\n",
              "<div id=\"df-4acc397b-45af-40ea-ad06-96401749d80f\">\n",
              "  <button class=\"colab-df-quickchart\" onclick=\"quickchart('df-4acc397b-45af-40ea-ad06-96401749d80f')\"\n",
              "            title=\"Suggest charts\"\n",
              "            style=\"display:none;\">\n",
              "\n",
              "<svg xmlns=\"http://www.w3.org/2000/svg\" height=\"24px\"viewBox=\"0 0 24 24\"\n",
              "     width=\"24px\">\n",
              "    <g>\n",
              "        <path d=\"M19 3H5c-1.1 0-2 .9-2 2v14c0 1.1.9 2 2 2h14c1.1 0 2-.9 2-2V5c0-1.1-.9-2-2-2zM9 17H7v-7h2v7zm4 0h-2V7h2v10zm4 0h-2v-4h2v4z\"/>\n",
              "    </g>\n",
              "</svg>\n",
              "  </button>\n",
              "\n",
              "<style>\n",
              "  .colab-df-quickchart {\n",
              "      --bg-color: #E8F0FE;\n",
              "      --fill-color: #1967D2;\n",
              "      --hover-bg-color: #E2EBFA;\n",
              "      --hover-fill-color: #174EA6;\n",
              "      --disabled-fill-color: #AAA;\n",
              "      --disabled-bg-color: #DDD;\n",
              "  }\n",
              "\n",
              "  [theme=dark] .colab-df-quickchart {\n",
              "      --bg-color: #3B4455;\n",
              "      --fill-color: #D2E3FC;\n",
              "      --hover-bg-color: #434B5C;\n",
              "      --hover-fill-color: #FFFFFF;\n",
              "      --disabled-bg-color: #3B4455;\n",
              "      --disabled-fill-color: #666;\n",
              "  }\n",
              "\n",
              "  .colab-df-quickchart {\n",
              "    background-color: var(--bg-color);\n",
              "    border: none;\n",
              "    border-radius: 50%;\n",
              "    cursor: pointer;\n",
              "    display: none;\n",
              "    fill: var(--fill-color);\n",
              "    height: 32px;\n",
              "    padding: 0;\n",
              "    width: 32px;\n",
              "  }\n",
              "\n",
              "  .colab-df-quickchart:hover {\n",
              "    background-color: var(--hover-bg-color);\n",
              "    box-shadow: 0 1px 2px rgba(60, 64, 67, 0.3), 0 1px 3px 1px rgba(60, 64, 67, 0.15);\n",
              "    fill: var(--button-hover-fill-color);\n",
              "  }\n",
              "\n",
              "  .colab-df-quickchart-complete:disabled,\n",
              "  .colab-df-quickchart-complete:disabled:hover {\n",
              "    background-color: var(--disabled-bg-color);\n",
              "    fill: var(--disabled-fill-color);\n",
              "    box-shadow: none;\n",
              "  }\n",
              "\n",
              "  .colab-df-spinner {\n",
              "    border: 2px solid var(--fill-color);\n",
              "    border-color: transparent;\n",
              "    border-bottom-color: var(--fill-color);\n",
              "    animation:\n",
              "      spin 1s steps(1) infinite;\n",
              "  }\n",
              "\n",
              "  @keyframes spin {\n",
              "    0% {\n",
              "      border-color: transparent;\n",
              "      border-bottom-color: var(--fill-color);\n",
              "      border-left-color: var(--fill-color);\n",
              "    }\n",
              "    20% {\n",
              "      border-color: transparent;\n",
              "      border-left-color: var(--fill-color);\n",
              "      border-top-color: var(--fill-color);\n",
              "    }\n",
              "    30% {\n",
              "      border-color: transparent;\n",
              "      border-left-color: var(--fill-color);\n",
              "      border-top-color: var(--fill-color);\n",
              "      border-right-color: var(--fill-color);\n",
              "    }\n",
              "    40% {\n",
              "      border-color: transparent;\n",
              "      border-right-color: var(--fill-color);\n",
              "      border-top-color: var(--fill-color);\n",
              "    }\n",
              "    60% {\n",
              "      border-color: transparent;\n",
              "      border-right-color: var(--fill-color);\n",
              "    }\n",
              "    80% {\n",
              "      border-color: transparent;\n",
              "      border-right-color: var(--fill-color);\n",
              "      border-bottom-color: var(--fill-color);\n",
              "    }\n",
              "    90% {\n",
              "      border-color: transparent;\n",
              "      border-bottom-color: var(--fill-color);\n",
              "    }\n",
              "  }\n",
              "</style>\n",
              "\n",
              "  <script>\n",
              "    async function quickchart(key) {\n",
              "      const quickchartButtonEl =\n",
              "        document.querySelector('#' + key + ' button');\n",
              "      quickchartButtonEl.disabled = true;  // To prevent multiple clicks.\n",
              "      quickchartButtonEl.classList.add('colab-df-spinner');\n",
              "      try {\n",
              "        const charts = await google.colab.kernel.invokeFunction(\n",
              "            'suggestCharts', [key], {});\n",
              "      } catch (error) {\n",
              "        console.error('Error during call to suggestCharts:', error);\n",
              "      }\n",
              "      quickchartButtonEl.classList.remove('colab-df-spinner');\n",
              "      quickchartButtonEl.classList.add('colab-df-quickchart-complete');\n",
              "    }\n",
              "    (() => {\n",
              "      let quickchartButtonEl =\n",
              "        document.querySelector('#df-4acc397b-45af-40ea-ad06-96401749d80f button');\n",
              "      quickchartButtonEl.style.display =\n",
              "        google.colab.kernel.accessAllowed ? 'block' : 'none';\n",
              "    })();\n",
              "  </script>\n",
              "</div>\n",
              "\n",
              "    </div>\n",
              "  </div>\n"
            ],
            "application/vnd.google.colaboratory.intrinsic+json": {
              "type": "dataframe",
              "summary": "{\n  \"name\": \"data['text_length']\",\n  \"rows\": 5,\n  \"fields\": [\n    {\n      \"column\": \"index\",\n      \"properties\": {\n        \"dtype\": \"number\",\n        \"std\": 1,\n        \"min\": 0,\n        \"max\": 4,\n        \"num_unique_values\": 5,\n        \"samples\": [\n          1,\n          4,\n          2\n        ],\n        \"semantic_type\": \"\",\n        \"description\": \"\"\n      }\n    },\n    {\n      \"column\": \"text_length\",\n      \"properties\": {\n        \"dtype\": \"number\",\n        \"std\": 635,\n        \"min\": 1898,\n        \"max\": 3597,\n        \"num_unique_values\": 5,\n        \"samples\": [\n          1898,\n          2346,\n          3597\n        ],\n        \"semantic_type\": \"\",\n        \"description\": \"\"\n      }\n    }\n  ]\n}"
            }
          },
          "metadata": {},
          "execution_count": 28
        }
      ],
      "execution_count": null
    },
    {
      "cell_type": "code",
      "source": [
        "plt.hist(data['text_length'],bins= 100, color='c')\n",
        "plt.title(\"Distribution of Text Length\")\n",
        "plt.xlabel(\"Text\")\n",
        "plt.ylabel(\"Text Length\")\n",
        "plt.xticks(np.arange(0, 40000, 5000),rotation=45)\n",
        "plt.show()"
      ],
      "metadata": {
        "id": "_zz2eJZWhKDh",
        "outputId": "a1264405-c984-4105-b564-83ec85cc7adb",
        "trusted": true,
        "execution": {
          "iopub.status.busy": "2025-04-10T07:05:29.191453Z",
          "iopub.execute_input": "2025-04-10T07:05:29.191779Z",
          "iopub.status.idle": "2025-04-10T07:05:29.483746Z",
          "shell.execute_reply.started": "2025-04-10T07:05:29.191746Z",
          "shell.execute_reply": "2025-04-10T07:05:29.48265Z"
        },
        "colab": {
          "base_uri": "https://localhost:8080/",
          "height": 499
        }
      },
      "outputs": [
        {
          "output_type": "display_data",
          "data": {
            "text/plain": [
              "<Figure size 640x480 with 1 Axes>"
            ],
            "image/png": "[encoded data removed]"
          },
          "metadata": {}
        }
      ],
      "execution_count": null
    },
    {
      "cell_type": "code",
      "source": [
        "data.columns"
      ],
      "metadata": {
        "trusted": true,
        "execution": {
          "iopub.status.busy": "2025-04-10T07:05:29.484545Z",
          "iopub.execute_input": "2025-04-10T07:05:29.484805Z",
          "iopub.status.idle": "2025-04-10T07:05:29.489829Z",
          "shell.execute_reply.started": "2025-04-10T07:05:29.484784Z",
          "shell.execute_reply": "2025-04-10T07:05:29.488943Z"
        },
        "id": "NYHU6CZ4KuSg",
        "outputId": "714b1a4a-4d2a-4f03-a8c4-5f2f7991f6a5",
        "colab": {
          "base_uri": "https://localhost:8080/"
        }
      },
      "outputs": [
        {
          "output_type": "execute_result",
          "data": {
            "text/plain": [
              "Index(['title', 'text', 'subject', 'date', 'label', 'text_length'], dtype='object')"
            ]
          },
          "metadata": {},
          "execution_count": 30
        }
      ],
      "execution_count": null
    },
    {
      "cell_type": "code",
      "source": [
        "data['text'] = data['text'].apply(clean_word)"
      ],
      "metadata": {
        "trusted": true,
        "execution": {
          "iopub.status.busy": "2025-04-10T07:05:29.490637Z",
          "iopub.execute_input": "2025-04-10T07:05:29.490931Z",
          "iopub.status.idle": "2025-04-10T07:05:48.443469Z",
          "shell.execute_reply.started": "2025-04-10T07:05:29.490911Z",
          "shell.execute_reply": "2025-04-10T07:05:48.442812Z"
        },
        "id": "m4qRqeumKuSg"
      },
      "outputs": [],
      "execution_count": null
    },
    {
      "cell_type": "code",
      "source": [
        "data['text'].reset_index()"
      ],
      "metadata": {
        "trusted": true,
        "execution": {
          "iopub.status.busy": "2025-04-10T07:05:48.44421Z",
          "iopub.execute_input": "2025-04-10T07:05:48.444456Z",
          "iopub.status.idle": "2025-04-10T07:05:48.456369Z",
          "shell.execute_reply.started": "2025-04-10T07:05:48.444429Z",
          "shell.execute_reply": "2025-04-10T07:05:48.455754Z"
        },
        "id": "oz5dMoZeKuSh",
        "outputId": "b356f071-df56-4330-a58c-cc466fde496e",
        "colab": {
          "base_uri": "https://localhost:8080/",
          "height": 424
        }
      },
      "outputs": [
        {
          "output_type": "execute_result",
          "data": {
            "text/plain": [
              "       index                                               text\n",
              "0          0  donald trump just couldn t wish all americans ...\n",
              "1          1  house intelligence committee chairman devin nu...\n",
              "2          2  on friday  it was revealed that former milwauk...\n",
              "3          3  on christmas day  donald trump announced that ...\n",
              "4          4  pope francis used his annual christmas day mes...\n",
              "...      ...                                                ...\n",
              "44674  44893  brussels  reuters    nato allies on tuesday we...\n",
              "44675  44894  london  reuters    lexisnexis  a provider of l...\n",
              "44676  44895  minsk  reuters    in the shadow of disused sov...\n",
              "44677  44896  moscow  reuters    vatican secretary of state ...\n",
              "44678  44897  jakarta  reuters    indonesia will buy  sukhoi...\n",
              "\n",
              "[44679 rows x 2 columns]"
            ],
            "text/html": [
              "\n",
              "  <div id=\"df-dd811f03-6d16-4835-8f62-84a1a45720e7\" class=\"colab-df-container\">\n",
              "    <div>\n",
              "<style scoped>\n",
              "    .dataframe tbody tr th:only-of-type {\n",
              "        vertical-align: middle;\n",
              "    }\n",
              "\n",
              "    .dataframe tbody tr th {\n",
              "        vertical-align: top;\n",
              "    }\n",
              "\n",
              "    .dataframe thead th {\n",
              "        text-align: right;\n",
              "    }\n",
              "</style>\n",
              "<table border=\"1\" class=\"dataframe\">\n",
              "  <thead>\n",
              "    <tr style=\"text-align: right;\">\n",
              "      <th></th>\n",
              "      <th>index</th>\n",
              "      <th>text</th>\n",
              "    </tr>\n",
              "  </thead>\n",
              "  <tbody>\n",
              "    <tr>\n",
              "      <th>0</th>\n",
              "      <td>0</td>\n",
              "      <td>donald trump just couldn t wish all americans ...</td>\n",
              "    </tr>\n",
              "    <tr>\n",
              "      <th>1</th>\n",
              "      <td>1</td>\n",
              "      <td>house intelligence committee chairman devin nu...</td>\n",
              "    </tr>\n",
              "    <tr>\n",
              "      <th>2</th>\n",
              "      <td>2</td>\n",
              "      <td>on friday  it was revealed that former milwauk...</td>\n",
              "    </tr>\n",
              "    <tr>\n",
              "      <th>3</th>\n",
              "      <td>3</td>\n",
              "      <td>on christmas day  donald trump announced that ...</td>\n",
              "    </tr>\n",
              "    <tr>\n",
              "      <th>4</th>\n",
              "      <td>4</td>\n",
              "      <td>pope francis used his annual christmas day mes...</td>\n",
              "    </tr>\n",
              "    <tr>\n",
              "      <th>...</th>\n",
              "      <td>...</td>\n",
              "      <td>...</td>\n",
              "    </tr>\n",
              "    <tr>\n",
              "      <th>44674</th>\n",
              "      <td>44893</td>\n",
              "      <td>brussels  reuters    nato allies on tuesday we...</td>\n",
              "    </tr>\n",
              "    <tr>\n",
              "      <th>44675</th>\n",
              "      <td>44894</td>\n",
              "      <td>london  reuters    lexisnexis  a provider of l...</td>\n",
              "    </tr>\n",
              "    <tr>\n",
              "      <th>44676</th>\n",
              "      <td>44895</td>\n",
              "      <td>minsk  reuters    in the shadow of disused sov...</td>\n",
              "    </tr>\n",
              "    <tr>\n",
              "      <th>44677</th>\n",
              "      <td>44896</td>\n",
              "      <td>moscow  reuters    vatican secretary of state ...</td>\n",
              "    </tr>\n",
              "    <tr>\n",
              "      <th>44678</th>\n",
              "      <td>44897</td>\n",
              "      <td>jakarta  reuters    indonesia will buy  sukhoi...</td>\n",
              "    </tr>\n",
              "  </tbody>\n",
              "</table>\n",
              "<p>44679 rows × 2 columns</p>\n",
              "</div>\n",
              "    <div class=\"colab-df-buttons\">\n",
              "\n",
              "  <div class=\"colab-df-container\">\n",
              "    <button class=\"colab-df-convert\" onclick=\"convertToInteractive('df-dd811f03-6d16-4835-8f62-84a1a45720e7')\"\n",
              "            title=\"Convert this dataframe to an interactive table.\"\n",
              "            style=\"display:none;\">\n",
              "\n",
              "  <svg xmlns=\"http://www.w3.org/2000/svg\" height=\"24px\" viewBox=\"0 -960 960 960\">\n",
              "    <path d=\"M120-120v-720h720v720H120Zm60-500h600v-160H180v160Zm220 220h160v-160H400v160Zm0 220h160v-160H400v160ZM180-400h160v-160H180v160Zm440 0h160v-160H620v160ZM180-180h160v-160H180v160Zm440 0h160v-160H620v160Z\"/>\n",
              "  </svg>\n",
              "    </button>\n",
              "\n",
              "  <style>\n",
              "    .colab-df-container {\n",
              "      display:flex;\n",
              "      gap: 12px;\n",
              "    }\n",
              "\n",
              "    .colab-df-convert {\n",
              "      background-color: #E8F0FE;\n",
              "      border: none;\n",
              "      border-radius: 50%;\n",
              "      cursor: pointer;\n",
              "      display: none;\n",
              "      fill: #1967D2;\n",
              "      height: 32px;\n",
              "      padding: 0 0 0 0;\n",
              "      width: 32px;\n",
              "    }\n",
              "\n",
              "    .colab-df-convert:hover {\n",
              "      background-color: #E2EBFA;\n",
              "      box-shadow: 0px 1px 2px rgba(60, 64, 67, 0.3), 0px 1px 3px 1px rgba(60, 64, 67, 0.15);\n",
              "      fill: #174EA6;\n",
              "    }\n",
              "\n",
              "    .colab-df-buttons div {\n",
              "      margin-bottom: 4px;\n",
              "    }\n",
              "\n",
              "    [theme=dark] .colab-df-convert {\n",
              "      background-color: #3B4455;\n",
              "      fill: #D2E3FC;\n",
              "    }\n",
              "\n",
              "    [theme=dark] .colab-df-convert:hover {\n",
              "      background-color: #434B5C;\n",
              "      box-shadow: 0px 1px 3px 1px rgba(0, 0, 0, 0.15);\n",
              "      filter: drop-shadow(0px 1px 2px rgba(0, 0, 0, 0.3));\n",
              "      fill: #FFFFFF;\n",
              "    }\n",
              "  </style>\n",
              "\n",
              "    <script>\n",
              "      const buttonEl =\n",
              "        document.querySelector('#df-dd811f03-6d16-4835-8f62-84a1a45720e7 button.colab-df-convert');\n",
              "      buttonEl.style.display =\n",
              "        google.colab.kernel.accessAllowed ? 'block' : 'none';\n",
              "\n",
              "      async function convertToInteractive(key) {\n",
              "        const element = document.querySelector('#df-dd811f03-6d16-4835-8f62-84a1a45720e7');\n",
              "        const dataTable =\n",
              "          await google.colab.kernel.invokeFunction('convertToInteractive',\n",
              "                                                    [key], {});\n",
              "        if (!dataTable) return;\n",
              "\n",
              "        const docLinkHtml = 'Like what you see? Visit the ' +\n",
              "          '<a target=\"_blank\" href=https://colab.research.google.com/notebooks/data_table.ipynb>data table notebook</a>'\n",
              "          + ' to learn more about interactive tables.';\n",
              "        element.innerHTML = '';\n",
              "        dataTable['output_type'] = 'display_data';\n",
              "        await google.colab.output.renderOutput(dataTable, element);\n",
              "        const docLink = document.createElement('div');\n",
              "        docLink.innerHTML = docLinkHtml;\n",
              "        element.appendChild(docLink);\n",
              "      }\n",
              "    </script>\n",
              "  </div>\n",
              "\n",
              "\n",
              "<div id=\"df-aba26e68-d260-4f24-8f7e-58e39a546524\">\n",
              "  <button class=\"colab-df-quickchart\" onclick=\"quickchart('df-aba26e68-d260-4f24-8f7e-58e39a546524')\"\n",
              "            title=\"Suggest charts\"\n",
              "            style=\"display:none;\">\n",
              "\n",
              "<svg xmlns=\"http://www.w3.org/2000/svg\" height=\"24px\"viewBox=\"0 0 24 24\"\n",
              "     width=\"24px\">\n",
              "    <g>\n",
              "        <path d=\"M19 3H5c-1.1 0-2 .9-2 2v14c0 1.1.9 2 2 2h14c1.1 0 2-.9 2-2V5c0-1.1-.9-2-2-2zM9 17H7v-7h2v7zm4 0h-2V7h2v10zm4 0h-2v-4h2v4z\"/>\n",
              "    </g>\n",
              "</svg>\n",
              "  </button>\n",
              "\n",
              "<style>\n",
              "  .colab-df-quickchart {\n",
              "      --bg-color: #E8F0FE;\n",
              "      --fill-color: #1967D2;\n",
              "      --hover-bg-color: #E2EBFA;\n",
              "      --hover-fill-color: #174EA6;\n",
              "      --disabled-fill-color: #AAA;\n",
              "      --disabled-bg-color: #DDD;\n",
              "  }\n",
              "\n",
              "  [theme=dark] .colab-df-quickchart {\n",
              "      --bg-color: #3B4455;\n",
              "      --fill-color: #D2E3FC;\n",
              "      --hover-bg-color: #434B5C;\n",
              "      --hover-fill-color: #FFFFFF;\n",
              "      --disabled-bg-color: #3B4455;\n",
              "      --disabled-fill-color: #666;\n",
              "  }\n",
              "\n",
              "  .colab-df-quickchart {\n",
              "    background-color: var(--bg-color);\n",
              "    border: none;\n",
              "    border-radius: 50%;\n",
              "    cursor: pointer;\n",
              "    display: none;\n",
              "    fill: var(--fill-color);\n",
              "    height: 32px;\n",
              "    padding: 0;\n",
              "    width: 32px;\n",
              "  }\n",
              "\n",
              "  .colab-df-quickchart:hover {\n",
              "    background-color: var(--hover-bg-color);\n",
              "    box-shadow: 0 1px 2px rgba(60, 64, 67, 0.3), 0 1px 3px 1px rgba(60, 64, 67, 0.15);\n",
              "    fill: var(--button-hover-fill-color);\n",
              "  }\n",
              "\n",
              "  .colab-df-quickchart-complete:disabled,\n",
              "  .colab-df-quickchart-complete:disabled:hover {\n",
              "    background-color: var(--disabled-bg-color);\n",
              "    fill: var(--disabled-fill-color);\n",
              "    box-shadow: none;\n",
              "  }\n",
              "\n",
              "  .colab-df-spinner {\n",
              "    border: 2px solid var(--fill-color);\n",
              "    border-color: transparent;\n",
              "    border-bottom-color: var(--fill-color);\n",
              "    animation:\n",
              "      spin 1s steps(1) infinite;\n",
              "  }\n",
              "\n",
              "  @keyframes spin {\n",
              "    0% {\n",
              "      border-color: transparent;\n",
              "      border-bottom-color: var(--fill-color);\n",
              "      border-left-color: var(--fill-color);\n",
              "    }\n",
              "    20% {\n",
              "      border-color: transparent;\n",
              "      border-left-color: var(--fill-color);\n",
              "      border-top-color: var(--fill-color);\n",
              "    }\n",
              "    30% {\n",
              "      border-color: transparent;\n",
              "      border-left-color: var(--fill-color);\n",
              "      border-top-color: var(--fill-color);\n",
              "      border-right-color: var(--fill-color);\n",
              "    }\n",
              "    40% {\n",
              "      border-color: transparent;\n",
              "      border-right-color: var(--fill-color);\n",
              "      border-top-color: var(--fill-color);\n",
              "    }\n",
              "    60% {\n",
              "      border-color: transparent;\n",
              "      border-right-color: var(--fill-color);\n",
              "    }\n",
              "    80% {\n",
              "      border-color: transparent;\n",
              "      border-right-color: var(--fill-color);\n",
              "      border-bottom-color: var(--fill-color);\n",
              "    }\n",
              "    90% {\n",
              "      border-color: transparent;\n",
              "      border-bottom-color: var(--fill-color);\n",
              "    }\n",
              "  }\n",
              "</style>\n",
              "\n",
              "  <script>\n",
              "    async function quickchart(key) {\n",
              "      const quickchartButtonEl =\n",
              "        document.querySelector('#' + key + ' button');\n",
              "      quickchartButtonEl.disabled = true;  // To prevent multiple clicks.\n",
              "      quickchartButtonEl.classList.add('colab-df-spinner');\n",
              "      try {\n",
              "        const charts = await google.colab.kernel.invokeFunction(\n",
              "            'suggestCharts', [key], {});\n",
              "      } catch (error) {\n",
              "        console.error('Error during call to suggestCharts:', error);\n",
              "      }\n",
              "      quickchartButtonEl.classList.remove('colab-df-spinner');\n",
              "      quickchartButtonEl.classList.add('colab-df-quickchart-complete');\n",
              "    }\n",
              "    (() => {\n",
              "      let quickchartButtonEl =\n",
              "        document.querySelector('#df-aba26e68-d260-4f24-8f7e-58e39a546524 button');\n",
              "      quickchartButtonEl.style.display =\n",
              "        google.colab.kernel.accessAllowed ? 'block' : 'none';\n",
              "    })();\n",
              "  </script>\n",
              "</div>\n",
              "\n",
              "    </div>\n",
              "  </div>\n"
            ],
            "application/vnd.google.colaboratory.intrinsic+json": {
              "type": "dataframe",
              "summary": "{\n  \"name\": \"data['text']\",\n  \"rows\": 44679,\n  \"fields\": [\n    {\n      \"column\": \"index\",\n      \"properties\": {\n        \"dtype\": \"number\",\n        \"std\": 12962,\n        \"min\": 0,\n        \"max\": 44897,\n        \"num_unique_values\": 44679,\n        \"samples\": [\n          23604,\n          36296,\n          19962\n        ],\n        \"semantic_type\": \"\",\n        \"description\": \"\"\n      }\n    },\n    {\n      \"column\": \"text\",\n      \"properties\": {\n        \"dtype\": \"string\",\n        \"num_unique_values\": 38354,\n        \"samples\": [\n          \"this pastor s church should be heavily taxed for this kind of political speech democratic presidential candidate bernie sanders is the first jewish candidate to win a state primary in american history  pulling off the feat in new hampshire last month in an incredible upset of hillary clinton the self described democratic socialist has excited crowds across the country with his vow to reign in wall street and end income inequality  sanders is particularly popular with young people who see him as a desperately needed agent of change who can turn the system around and ensure a better future for all americans and it s because college students support him that one christian televangelist is calling sanders the next adolf hitler  you know  the nazi germany dictator who ordered the extermination of six million jews during world war ii  yeah  that hitler during a sermon  disgraced pastor jim bakker openly compared sanders to hitler citing his socialist beliefs and claimed that if he s elected every american will be dead in a year  one of the most popular politicians right now is a socialist   and who is his biggest following  the young people of america  from the colleges  maybe you understand a little bit what it felt like to live when hitler was reigning and the church had to sit by and keep watching it and watching until millions  tens of millions   they had to build factories to kill people  all it takes is a couple bombs and all of america will be dead within a year  less than a year  just months  bakkers audience  of course  consisted of a bunch of easily frightened old conservative white people here s the video via youtube there are many problems with bakker s comparison first of all  while young people are flocking to sander s campaign  they are doing so on their own volition while hitler and the nazi party actually went into schools to indoctrinate the german youth to get their support second  bernie sanders is a democratic socialist  which is totally different from a national socialist as sanders explained in november  democratic socialism  builds on what franklin delano roosevelt said when he fought for guaranteed economic rights for all americans  and it builds on what martin luther king  jr  said in  when he stated that   this country has socialism for the rich  and rugged individualism for the poor   it builds on the success of many other countries around the world that have done a far better job than we have in protecting the needs of their working families  the elderly  the children  the sick and the poor  indeed  sanders believes in  economic equality  universal health care  wall street reform  universal college education  paid family leave  in addition  sanders also seeks  political reforms to limit the power of the wealthy so there is  democratic socialism for working families  not just wall street  billionaires and large corporations national socialism  on the other hand  is a brutal and authoritarian fascist ideology practiced by the nazis and other right wing groups who believe in a racial hierarchy with whites at the top  nazis support policies that push national power  demonize intellectualism  subjugate women  punish homosexuality  censor the free press  and are over obsessed with christianity among multiple other aspects you can find by clicking here in no way does national socialism apply to bernie sanders  jim bakker would be thinking of this guy image via imgurneed proof of trump s fascism  well  there s the fact that he ll soon have his own version of hitler s brownshirts  then there s the fact that legendary investigative journalist carl bernstein explained why trump is a fascist  there s this excellent comparison made by the daily show  and there s the fact that neo nazis show up to support trump at his rallies seriously  jim bakker is either oblivious to the real fascism being pushed by trump or he supports trump and just wants to shift the accusations of fascism to sanders to protect the republican front runner  either way  bakker and his church should face steep taxes for engaging in political speech  especially the kind that pushes outright lies featured image via video screen capture\",\n          \"let that sink in a major party in america is planning to spend upwards of    to create chaos  confusion and intimidation against fellow americans who don t agree with them  now that s a party you can be proud to be a part of  internet hacker  guccifer    released the democrat party s plan to disrupt the rnc in cleveland and harass delegates at the convention democrats plan to spend at least    on operations to torment republicans at their convention hundreds of paid liberal activists will also converge on cleveland to disrupt and cause mayhem   gpthe smoking gun reported the democratic party s plan to crash this month s republican national convention is heavy on gimmicks and stunts meant to highlight a possible  trumpocalypse   as well as to ridicule the presumptive gop candidate s purported spray tan  tiny fingers  and dog whistle proclivities the democratic national committee s  counter convention plan sketch  covers  pages and outlines the party s activities in cleveland  where the republican convention begins july   democratic operatives will launch their operation a week earlier  on july   to coincide with the opening of the rnc s summer meeting  \",\n          \"according to a new report  former british spy christopher steele has finally opened up to the fbi about the sources of what he calls his prurient  dossier  on donald trump and his ties to the kremlin  sources that were only identified by letters throughout the document the  page document was authored by steele  an ex  agent  and first published on buzzfeed in january  but although the report is unsubstantiated  it alleged that the russian government had material that they could use to blackmail trump  allowing the kremlin to impede in the  united states presidential election steele initially went into hiding after publishing his dossier  but investigators looking into russia s election meddling have been trying to reach out to him since the document went public  with the washington post reporting earlier this year that the fbi was even planning on paying him for more information on trump s potential ties with russia  this apparently occurred when an intermediary brought steele s findings to the fbi following the release of hacked democratic national committee emails  a move later found to be part of russia s effort to sway the election and a notion the president has repeatedly slammed as  fake news  now it has come to light that steele has told investigators about the identities of his sources  however  it is still unknown what  if any  other information he gave  this reported meeting between steele and the agency could be a potential deal breaker for the commander in chief  as it comes at a time when the fbi  the house  the senate  and special counsel robert mueller are all simultaneously investigating russia s role in last year s election furthermore  aleksej gubarev  a russian businessman named in the document  has filed a defamation suit in florida  however  steele is currently fighting a federal court request for him to testify  claiming his thoughts on the matter are for his ears only featured image via leon neal getty images\"\n        ],\n        \"semantic_type\": \"\",\n        \"description\": \"\"\n      }\n    }\n  ]\n}"
            }
          },
          "metadata": {},
          "execution_count": 32
        }
      ],
      "execution_count": null
    },
    {
      "cell_type": "markdown",
      "source": [
        "# Split data"
      ],
      "metadata": {
        "id": "UihU22v_KuSh"
      }
    },
    {
      "cell_type": "code",
      "source": [
        "x = data['text']\n",
        "y =data['label']"
      ],
      "metadata": {
        "id": "H6p2K4Q_euoX",
        "trusted": true,
        "execution": {
          "iopub.status.busy": "2025-04-10T07:05:48.457074Z",
          "iopub.execute_input": "2025-04-10T07:05:48.457301Z",
          "iopub.status.idle": "2025-04-10T07:05:48.472515Z",
          "shell.execute_reply.started": "2025-04-10T07:05:48.457282Z",
          "shell.execute_reply": "2025-04-10T07:05:48.471845Z"
        }
      },
      "outputs": [],
      "execution_count": null
    },
    {
      "cell_type": "code",
      "source": [
        "x_train,x_test,y_train,y_test = train_test_split(x,y, random_state = 45,test_size = 0.3)"
      ],
      "metadata": {
        "id": "ZWAOYfaDeulU",
        "trusted": true,
        "execution": {
          "iopub.status.busy": "2025-04-10T07:05:48.473143Z",
          "iopub.execute_input": "2025-04-10T07:05:48.473335Z",
          "iopub.status.idle": "2025-04-10T07:05:48.496287Z",
          "shell.execute_reply.started": "2025-04-10T07:05:48.473319Z",
          "shell.execute_reply": "2025-04-10T07:05:48.495546Z"
        }
      },
      "outputs": [],
      "execution_count": null
    },
    {
      "cell_type": "markdown",
      "source": [
        "# Converts a collection of text documents into a matrix of TF-IDF features"
      ],
      "metadata": {
        "id": "SpIW119yKuSi"
      }
    },
    {
      "cell_type": "code",
      "source": [
        "# class in scikit-learn that converts a collection of text documents into a matrix of TF-IDF features\n",
        "vectorization = TfidfVectorizer()\n",
        "\n",
        "# earn the vocabulary and TF-IDF values from the training set and transform the text into TF-IDF vectors for the training data\n",
        "xv_train = vectorization.fit_transform(x_train)\n",
        "\n",
        "# use the previously learned vocabulary and IDF values from the training set to transform the test data into TF-IDF vectors\n",
        "xv_test = vectorization.transform(x_test)"
      ],
      "metadata": {
        "id": "xOT02qt6euim",
        "trusted": true,
        "execution": {
          "iopub.status.busy": "2025-04-10T07:05:48.497116Z",
          "iopub.execute_input": "2025-04-10T07:05:48.497361Z",
          "iopub.status.idle": "2025-04-10T07:06:00.319963Z",
          "shell.execute_reply.started": "2025-04-10T07:05:48.497339Z",
          "shell.execute_reply": "2025-04-10T07:06:00.319053Z"
        }
      },
      "outputs": [],
      "execution_count": null
    },
    {
      "cell_type": "markdown",
      "source": [
        "# Train and Test Data in ML Models\n"
      ],
      "metadata": {
        "id": "RWOJeSONKuSk"
      }
    },
    {
      "cell_type": "code",
      "source": [
        "train_test_model(LogisticRegression(),xv_train,xv_test,y_train,y_test)\n",
        "\n"
      ],
      "metadata": {
        "trusted": true,
        "execution": {
          "iopub.status.busy": "2025-04-10T07:06:00.320912Z",
          "iopub.execute_input": "2025-04-10T07:06:00.321229Z",
          "iopub.status.idle": "2025-04-10T07:06:01.776684Z",
          "shell.execute_reply.started": "2025-04-10T07:06:00.321199Z",
          "shell.execute_reply": "2025-04-10T07:06:01.775926Z"
        },
        "id": "H_8rcyxuKuSk",
        "outputId": "7f200392-8cd9-4cce-d783-57afb5bc10eb",
        "colab": {
          "base_uri": "https://localhost:8080/",
          "height": 1000
        }
      },
      "outputs": [
        {
          "output_type": "stream",
          "name": "stdout",
          "text": [
            "\n",
            " accuracy_score = 0.9870188003581021 \n",
            "\n",
            "confusion_matrix = \n",
            " [[6948   93]\n",
            " [  81 6282]]\n",
            "\n",
            "classification_report = \n",
            "               precision    recall  f1-score   support\n",
            "\n",
            "           0       0.99      0.99      0.99      7041\n",
            "           1       0.99      0.99      0.99      6363\n",
            "\n",
            "    accuracy                           0.99     13404\n",
            "   macro avg       0.99      0.99      0.99     13404\n",
            "weighted avg       0.99      0.99      0.99     13404\n",
            "\n"
          ]
        },
        {
          "output_type": "display_data",
          "data": {
            "text/plain": [
              "<Figure size 1000x600 with 2 Axes>"
            ],
            "image/png": "[encoded data removed]"
          },
          "metadata": {}
        }
      ],
      "execution_count": null
    },
    {
      "cell_type": "code",
      "source": [
        "train_test_model (DecisionTreeClassifier(),xv_train,xv_test,y_train,y_test)"
      ],
      "metadata": {
        "trusted": true,
        "execution": {
          "iopub.status.busy": "2025-04-10T07:06:01.777513Z",
          "iopub.execute_input": "2025-04-10T07:06:01.777839Z",
          "iopub.status.idle": "2025-04-10T07:06:25.522176Z",
          "shell.execute_reply.started": "2025-04-10T07:06:01.777817Z",
          "shell.execute_reply": "2025-04-10T07:06:25.521204Z"
        },
        "id": "BbVWfU0jKuSl",
        "outputId": "86deee04-8886-44ed-f98c-9e573c94eba1",
        "colab": {
          "base_uri": "https://localhost:8080/",
          "height": 1000
        }
      },
      "outputs": [
        {
          "output_type": "stream",
          "name": "stdout",
          "text": [
            "\n",
            " accuracy_score = 0.9950760966875559 \n",
            "\n",
            "confusion_matrix = \n",
            " [[7002   39]\n",
            " [  27 6336]]\n",
            "\n",
            "classification_report = \n",
            "               precision    recall  f1-score   support\n",
            "\n",
            "           0       1.00      0.99      1.00      7041\n",
            "           1       0.99      1.00      0.99      6363\n",
            "\n",
            "    accuracy                           1.00     13404\n",
            "   macro avg       1.00      1.00      1.00     13404\n",
            "weighted avg       1.00      1.00      1.00     13404\n",
            "\n"
          ]
        },
        {
          "output_type": "display_data",
          "data": {
            "text/plain": [
              "<Figure size 1000x600 with 2 Axes>"
            ],
            "image/png": "[encoded data removed]"
          },
          "metadata": {}
        }
      ],
      "execution_count": null
    },
    {
      "cell_type": "code",
      "source": [],
      "metadata": {
        "trusted": true,
        "execution": {
          "iopub.status.busy": "2025-04-10T07:15:18.38248Z",
          "iopub.execute_input": "2025-04-10T07:15:18.382815Z",
          "execution_failed": "2025-04-10T07:26:29.294Z"
        },
        "id": "y4zW2ecrKuSl"
      },
      "outputs": [],
      "execution_count": null
    }
  ]
}